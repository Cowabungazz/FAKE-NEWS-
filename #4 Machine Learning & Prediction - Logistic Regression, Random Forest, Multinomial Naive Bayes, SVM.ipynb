{
 "cells": [
  {
   "cell_type": "markdown",
   "id": "b7a4bb9c",
   "metadata": {},
   "source": [
    "## Load the Modules"
   ]
  },
  {
   "cell_type": "code",
   "execution_count": 1,
   "id": "8187ea9b",
   "metadata": {
    "scrolled": true
   },
   "outputs": [],
   "source": [
    "import numpy as np\n",
    "import pandas as pd\n",
    "from sklearn.feature_extraction.text import CountVectorizer, TfidfVectorizer\n",
    "from sklearn.model_selection import train_test_split, GridSearchCV\n",
    "from sklearn.metrics import accuracy_score, precision_score, recall_score, f1_score\n",
    "from sklearn.linear_model import LogisticRegression\n",
    "from sklearn.ensemble import RandomForestClassifier\n",
    "from sklearn.naive_bayes import MultinomialNB\n",
    "from sklearn.svm import SVC\n",
    "import gensim.downloader as api"
   ]
  },
  {
   "cell_type": "markdown",
   "id": "7d365ac5",
   "metadata": {},
   "source": [
    "## Splitting the data into 2 parts - train and test data"
   ]
  },
  {
   "cell_type": "code",
   "execution_count": 2,
   "id": "5b12de36",
   "metadata": {},
   "outputs": [],
   "source": [
    "# Load the cleaned dataset\n",
    "data = pd.read_csv('cleaned_news_data.csv')\n",
    "\n",
    "# Combine title_clean and text_clean as the input for the model\n",
    "data['combined_text'] = data['title_clean'] + ' ' + data['text_clean']\n",
    "\n",
    "# Split the dataset\n",
    "X_train, X_test, y_train, y_test = train_test_split(data['combined_text'], data['label'], test_size=0.2, random_state=42)"
   ]
  },
  {
   "cell_type": "markdown",
   "id": "860a8b88",
   "metadata": {},
   "source": [
    "## We'll be using the same 3 text representation techniques as shown previously\n",
    "Bag of Words, TF-IDF and GloVe"
   ]
  },
  {
   "cell_type": "markdown",
   "id": "7cd42b72",
   "metadata": {},
   "source": [
    "## Create a CountVectorizer object\n",
    "Common english words (e.g., \"a\", \"an\", \"the\") will be removed from the text The vectorizer will use the top 10,000 most frequent words in the text to create the feature vectors.\n",
    "\n",
    "## The 'vectorizer' object is then used to fit and transform the training data (X_train) and transform the test data (X_test) into BoW feature vectors."
   ]
  },
  {
   "cell_type": "code",
   "execution_count": 3,
   "id": "6a423c3d",
   "metadata": {},
   "outputs": [],
   "source": [
    "# Bag of Words\n",
    "vectorizer = CountVectorizer(stop_words='english', max_features=10000)\n",
    "X_train_bow = vectorizer.fit_transform(X_train)\n",
    "X_test_bow = vectorizer.transform(X_test)"
   ]
  },
  {
   "cell_type": "markdown",
   "id": "ce6a8e76",
   "metadata": {},
   "source": [
    "## Create a TfidfVectorizer object \n",
    "The same stop_words and max_features parameters as before. The difference between CountVectorizer and TfidfVectorizer is that the latter calculates the Term Frequency-Inverse Document Frequency (TF-IDF) of each word, which is a measure that reflects the importance of a word in the document and the entire corpus.\n",
    "\n",
    "## The 'vectorizer_tfidf' object is then used to fit and transform the training data (X_train) and transform the test data (X_test) into TF-IDF feature vectors. \n",
    "These feature vectors are stored in the variables 'X_train_tfidf' and 'X_test_tfidf'."
   ]
  },
  {
   "cell_type": "code",
   "execution_count": 4,
   "id": "c37cdb6b",
   "metadata": {},
   "outputs": [],
   "source": [
    "# TfidfVectorizer\n",
    "vectorizer_tfidf = TfidfVectorizer(stop_words='english', max_features=10000)\n",
    "X_train_tfidf = vectorizer_tfidf.fit_transform(X_train)\n",
    "X_test_tfidf = vectorizer_tfidf.transform(X_test)"
   ]
  },
  {
   "cell_type": "markdown",
   "id": "e89611b2",
   "metadata": {},
   "source": [
    "## Loads the pre-trained GloVe model with 100-dimensional word vectors\n",
    "\n",
    "The get_average_glove_vector() function is defined, which takes a text string and the GloVe model as input arguments. Inside the function, the text is split into words. For each word, if it exists in the GloVe model, the corresponding word vector is extracted. If there are no valid word vectors in the text, the function returns a zero vector of the same size as the GloVe model's vector size. Otherwise, the function computes the average of all the word vectors in the text and returns this average vector as the final representation for the input text.\n",
    "\n",
    "## The function get_average_glove_vector() is applied to each text in the training data (X_train) and test data (X_test) using list comprehensions. \n",
    "The resulting arrays of average GloVe vectors are then converted to NumPy arrays and stored in the variables 'X_train_glove' and 'X_test_glove'."
   ]
  },
  {
   "cell_type": "code",
   "execution_count": 5,
   "id": "c7bb9a9d",
   "metadata": {},
   "outputs": [],
   "source": [
    "# Pre-trained word embeddings (GloVe)\n",
    "glove_model = api.load('glove-wiki-gigaword-100')\n",
    "\n",
    "def get_average_glove_vector(text, model):\n",
    "    words = text.split()\n",
    "    word_vectors = [model[word] for word in words if word in model]\n",
    "    if not word_vectors:\n",
    "        return np.zeros(model.vector_size)\n",
    "    return np.mean(word_vectors, axis=0)\n",
    "\n",
    "X_train_glove = np.array([get_average_glove_vector(text, glove_model) for text in X_train])\n",
    "X_test_glove = np.array([get_average_glove_vector(text, glove_model) for text in X_test])\n",
    "\n"
   ]
  },
  {
   "cell_type": "markdown",
   "id": "8d6433e5",
   "metadata": {},
   "source": [
    "## The choice of using these four models to detect fake news can be attributed to their unique strengths and properties that make them suitable for text classification tasks.\n",
    "\n",
    "### Logistic Regression: \n",
    "Logistic Regression is a simple and efficient linear model that performs well on binary classification tasks. It is easy to interpret and understand, which makes it a popular choice for text classification problems like fake news detection. Logistic Regression can handle large feature sets, such as the ones found in our text data, and can be easily regularized to prevent overfitting.\n",
    "\n",
    "### Random Forest: \n",
    "Random Forest is an ensemble learning method that constructs multiple decision trees and aggregates their results. This approach offers robustness and accuracy in classification tasks, as it leverages the power of multiple individual models. Random Forest can handle high-dimensional data and automatically performs feature selection, which is beneficial when dealing with text data that has numerous features. Additionally, it is resistant to overfitting and provides a measure of feature importance, aiding in interpretability.\n",
    "\n",
    "### Multinomial Naive Bayes: \n",
    "Multinomial Naive Bayes is a probabilistic classifier based on Bayes' theorem, specifically designed to handle discrete features like word counts or term frequencies in text data. It assumes that the features are conditionally independent, which simplifies the computation and allows for fast training. This model is easy to implement and has been widely used in text classification tasks, such as spam filtering and sentiment analysis, making it a reasonable choice for fake news detection.\n",
    "\n",
    "### Support Vector Machines (SVM): \n",
    "SVM is a powerful and flexible classifier that can handle both linear and non-linear classification problems. It works by finding the optimal hyperplane that separates the data points of different classes, maximizing the margin between them. SVM is particularly well-suited for high-dimensional data, such as text, and can be used with different kernel functions to model complex relationships between features. Additionally, it provides good generalization performance and can be fine-tuned using regularization parameters to prevent overfitting.\n",
    "\n",
    "## Two dictionaries: models and inputs. \n",
    "To store different machine learning models and different input feature types for an NLP classification task. These dictionaries will later be used for running multiple experiments, allowing for easy comparison of model performance using different input features."
   ]
  },
  {
   "cell_type": "code",
   "execution_count": 6,
   "id": "7ede9b88",
   "metadata": {},
   "outputs": [],
   "source": [
    "# Define models and input types\n",
    "models = {\n",
    "    'Logistic Regression': LogisticRegression(random_state=42, max_iter=1000),\n",
    "    'Random Forest': RandomForestClassifier(random_state=42),\n",
    "    'Multinomial Naive Bayes': MultinomialNB(),\n",
    "    'SVM': SVC(random_state=42)\n",
    "}\n",
    "\n",
    "inputs = {\n",
    "    'Bag of Words': (X_train_bow, X_test_bow),\n",
    "    'TF-IDF': (X_train_tfidf, X_test_tfidf),\n",
    "    'GloVe': (X_train_glove, X_test_glove)\n",
    "}\n",
    "\n"
   ]
  },
  {
   "cell_type": "markdown",
   "id": "d5519911",
   "metadata": {},
   "source": [
    "## Iterate over different input types (Bag of Words, TF-IDF, and GloVe) and machine learning models (Logistic Regression, Random Forest, Multinomial Naive Bayes, and SVM) \n",
    "To train, optimize, and evaluate their performance. The objective is to compare the performance of different models using different input feature types for a given text classification task.\n",
    "\n",
    "## Note: GloVe is not suitable for use with Multinomial Naive Bayes, and is not considered in our analysis. WHY?\n",
    "1) Value Range: Multinomial Naive Bayes expects non-negative, integer-valued input features, such as word counts or term frequencies. However, GloVe generates continuous-valued, dense vectors that can include both positive and negative values. This incompatibility in value range makes it difficult to directly apply Multinomial Naive Bayes to GloVe embeddings.\n",
    "\n",
    "2) Feature Independence: GloVe embeddings capture semantic and syntactic relationships between words. As a result, the word vectors are not independent of one another. This violates the assumption of feature independence in the Multinomial Naive Bayes model, which can lead to suboptimal performance."
   ]
  },
  {
   "cell_type": "code",
   "execution_count": 7,
   "id": "e2c1d4b4",
   "metadata": {
    "scrolled": false
   },
   "outputs": [
    {
     "name": "stderr",
     "output_type": "stream",
     "text": [
      "C:\\Users\\Tee Chang Zen\\AppData\\Local\\Temp\\ipykernel_15100\\2381932375.py:21: FutureWarning: The frame.append method is deprecated and will be removed from pandas in a future version. Use pandas.concat instead.\n",
      "  performance_df = performance_df.append({\n",
      "C:\\Users\\Tee Chang Zen\\AppData\\Local\\Temp\\ipykernel_15100\\2381932375.py:21: FutureWarning: The frame.append method is deprecated and will be removed from pandas in a future version. Use pandas.concat instead.\n",
      "  performance_df = performance_df.append({\n",
      "C:\\Users\\Tee Chang Zen\\AppData\\Local\\Temp\\ipykernel_15100\\2381932375.py:21: FutureWarning: The frame.append method is deprecated and will be removed from pandas in a future version. Use pandas.concat instead.\n",
      "  performance_df = performance_df.append({\n",
      "C:\\Users\\Tee Chang Zen\\AppData\\Local\\Temp\\ipykernel_15100\\2381932375.py:21: FutureWarning: The frame.append method is deprecated and will be removed from pandas in a future version. Use pandas.concat instead.\n",
      "  performance_df = performance_df.append({\n",
      "C:\\Users\\Tee Chang Zen\\AppData\\Local\\Temp\\ipykernel_15100\\2381932375.py:21: FutureWarning: The frame.append method is deprecated and will be removed from pandas in a future version. Use pandas.concat instead.\n",
      "  performance_df = performance_df.append({\n",
      "C:\\Users\\Tee Chang Zen\\AppData\\Local\\Temp\\ipykernel_15100\\2381932375.py:21: FutureWarning: The frame.append method is deprecated and will be removed from pandas in a future version. Use pandas.concat instead.\n",
      "  performance_df = performance_df.append({\n",
      "C:\\Users\\Tee Chang Zen\\AppData\\Local\\Temp\\ipykernel_15100\\2381932375.py:21: FutureWarning: The frame.append method is deprecated and will be removed from pandas in a future version. Use pandas.concat instead.\n",
      "  performance_df = performance_df.append({\n",
      "C:\\Users\\Tee Chang Zen\\AppData\\Local\\Temp\\ipykernel_15100\\2381932375.py:21: FutureWarning: The frame.append method is deprecated and will be removed from pandas in a future version. Use pandas.concat instead.\n",
      "  performance_df = performance_df.append({\n",
      "C:\\Users\\Tee Chang Zen\\AppData\\Local\\Temp\\ipykernel_15100\\2381932375.py:21: FutureWarning: The frame.append method is deprecated and will be removed from pandas in a future version. Use pandas.concat instead.\n",
      "  performance_df = performance_df.append({\n",
      "C:\\Users\\Tee Chang Zen\\AppData\\Local\\Temp\\ipykernel_15100\\2381932375.py:21: FutureWarning: The frame.append method is deprecated and will be removed from pandas in a future version. Use pandas.concat instead.\n",
      "  performance_df = performance_df.append({\n"
     ]
    },
    {
     "name": "stdout",
     "output_type": "stream",
     "text": [
      "      Input Type                    Model  Accuracy  Precision    Recall  \\\n",
      "0   Bag of Words      Logistic Regression  0.994353   0.995044  0.993168   \n",
      "1   Bag of Words            Random Forest  0.996612   0.996233  0.996702   \n",
      "2   Bag of Words  Multinomial Naive Bayes  0.943867   0.941773  0.941107   \n",
      "3   Bag of Words                      SVM  0.992772   0.993858  0.991048   \n",
      "4         TF-IDF      Logistic Regression  0.985995   0.981538  0.989399   \n",
      "5         TF-IDF            Random Forest  0.996612   0.996700  0.996231   \n",
      "6         TF-IDF  Multinomial Naive Bayes  0.928507   0.929387  0.920848   \n",
      "7         TF-IDF                      SVM  0.993336   0.991776  0.994346   \n",
      "8          GloVe      Logistic Regression  0.934041   0.929191  0.933569   \n",
      "9          GloVe            Random Forest  0.946917   0.951879  0.936631   \n",
      "10         GloVe                      SVM  0.939349   0.935211  0.938516   \n",
      "\n",
      "    F1 Score  \n",
      "0   0.994105  \n",
      "1   0.996467  \n",
      "2   0.941440  \n",
      "3   0.992451  \n",
      "4   0.985453  \n",
      "5   0.996466  \n",
      "6   0.925098  \n",
      "7   0.993060  \n",
      "8   0.931375  \n",
      "9   0.944194  \n",
      "10  0.936861  \n"
     ]
    },
    {
     "name": "stderr",
     "output_type": "stream",
     "text": [
      "C:\\Users\\Tee Chang Zen\\AppData\\Local\\Temp\\ipykernel_15100\\2381932375.py:21: FutureWarning: The frame.append method is deprecated and will be removed from pandas in a future version. Use pandas.concat instead.\n",
      "  performance_df = performance_df.append({\n"
     ]
    }
   ],
   "source": [
    "import pandas as pd\n",
    "import seaborn as sns\n",
    "import matplotlib.pyplot as plt\n",
    "\n",
    "#Store evaluation metrics in a DataFrame\n",
    "performance_df = pd.DataFrame(columns=['Input Type', 'Model', 'Accuracy', 'Precision', 'Recall', 'F1 Score'])\n",
    "\n",
    "for input_name, (X_train_input, X_test_input) in inputs.items():\n",
    "    for model_name, model in models.items():\n",
    "        #GloVe generates continuous word embeddings, while MNB works with discrete features. \n",
    "        #In the case of text classification, MNB typically uses counts of words or tokens \n",
    "        #(e.g., Term Frequency or TF-IDF representation). \n",
    "        #Mixing these two representations – continuous word embeddings and discrete feature counts – \n",
    "        #can lead to poor performance or even incompatibility when using MNB.\n",
    "        if model_name == 'Multinomial Naive Bayes' and input_name in ['GloVe']:\n",
    "            continue\n",
    "\n",
    "        model.fit(X_train_input, y_train)\n",
    "        y_pred = model.predict(X_test_input)\n",
    "\n",
    "        accuracy = accuracy_score(y_test, y_pred)\n",
    "        precision = precision_score(y_test, y_pred)\n",
    "        recall = recall_score(y_test, y_pred)\n",
    "        f1 = f1_score(y_test, y_pred)\n",
    "\n",
    "        performance_df = performance_df.append({\n",
    "            'Input Type': input_name,\n",
    "            'Model': model_name,\n",
    "            'Accuracy': accuracy,\n",
    "            'Precision': precision,\n",
    "            'Recall': recall,\n",
    "            'F1 Score': f1\n",
    "        }, ignore_index=True)\n",
    "\n",
    "print(performance_df)"
   ]
  },
  {
   "cell_type": "markdown",
   "id": "73814d96",
   "metadata": {},
   "source": [
    "## Interactive grouped bar chart with buttons to switch between the different evaluation metrics (Accuracy, Precision, Recall, and F1 Score). \n",
    "The chart will display the performance comparison of different models and input types."
   ]
  },
  {
   "cell_type": "code",
   "execution_count": 15,
   "id": "e0c7cc17",
   "metadata": {},
   "outputs": [
    {
     "data": {
      "application/vnd.plotly.v1+json": {
       "config": {
        "plotlyServerURL": "https://plot.ly"
       },
       "data": [
        {
         "hoverinfo": "x+text",
         "name": "Bag of Words Accuracy",
         "text": [
          "0.994353",
          "0.996612",
          "0.943867",
          "0.992772"
         ],
         "textposition": "auto",
         "type": "bar",
         "visible": true,
         "x": [
          "Logistic Regression",
          "Random Forest",
          "Multinomial Naive Bayes",
          "SVM"
         ],
         "y": [
          0.994353,
          0.996612,
          0.943867,
          0.992772
         ]
        },
        {
         "hoverinfo": "x+text",
         "name": "Bag of Words Precision",
         "text": [
          "0.995044",
          "0.996233",
          "0.941773",
          "0.993858"
         ],
         "textposition": "auto",
         "type": "bar",
         "visible": false,
         "x": [
          "Logistic Regression",
          "Random Forest",
          "Multinomial Naive Bayes",
          "SVM"
         ],
         "y": [
          0.995044,
          0.996233,
          0.941773,
          0.993858
         ]
        },
        {
         "hoverinfo": "x+text",
         "name": "Bag of Words Recall",
         "text": [
          "0.993168",
          "0.996702",
          "0.941107",
          "0.991048"
         ],
         "textposition": "auto",
         "type": "bar",
         "visible": false,
         "x": [
          "Logistic Regression",
          "Random Forest",
          "Multinomial Naive Bayes",
          "SVM"
         ],
         "y": [
          0.993168,
          0.996702,
          0.941107,
          0.991048
         ]
        },
        {
         "hoverinfo": "x+text",
         "name": "Bag of Words F1 Score",
         "text": [
          "0.994105",
          "0.996467",
          "0.94144",
          "0.992451"
         ],
         "textposition": "auto",
         "type": "bar",
         "visible": false,
         "x": [
          "Logistic Regression",
          "Random Forest",
          "Multinomial Naive Bayes",
          "SVM"
         ],
         "y": [
          0.994105,
          0.996467,
          0.94144,
          0.992451
         ]
        },
        {
         "hoverinfo": "x+text",
         "name": "TF-IDF Accuracy",
         "text": [
          "0.985995",
          "0.996612",
          "0.928507",
          "0.993336"
         ],
         "textposition": "auto",
         "type": "bar",
         "visible": true,
         "x": [
          "Logistic Regression",
          "Random Forest",
          "Multinomial Naive Bayes",
          "SVM"
         ],
         "y": [
          0.985995,
          0.996612,
          0.928507,
          0.993336
         ]
        },
        {
         "hoverinfo": "x+text",
         "name": "TF-IDF Precision",
         "text": [
          "0.981538",
          "0.9967",
          "0.929387",
          "0.991776"
         ],
         "textposition": "auto",
         "type": "bar",
         "visible": false,
         "x": [
          "Logistic Regression",
          "Random Forest",
          "Multinomial Naive Bayes",
          "SVM"
         ],
         "y": [
          0.981538,
          0.9967,
          0.929387,
          0.991776
         ]
        },
        {
         "hoverinfo": "x+text",
         "name": "TF-IDF Recall",
         "text": [
          "0.989399",
          "0.996231",
          "0.920848",
          "0.994346"
         ],
         "textposition": "auto",
         "type": "bar",
         "visible": false,
         "x": [
          "Logistic Regression",
          "Random Forest",
          "Multinomial Naive Bayes",
          "SVM"
         ],
         "y": [
          0.989399,
          0.996231,
          0.920848,
          0.994346
         ]
        },
        {
         "hoverinfo": "x+text",
         "name": "TF-IDF F1 Score",
         "text": [
          "0.985453",
          "0.996466",
          "0.925098",
          "0.99306"
         ],
         "textposition": "auto",
         "type": "bar",
         "visible": false,
         "x": [
          "Logistic Regression",
          "Random Forest",
          "Multinomial Naive Bayes",
          "SVM"
         ],
         "y": [
          0.985453,
          0.996466,
          0.925098,
          0.99306
         ]
        },
        {
         "hoverinfo": "x+text",
         "name": "GloVe Accuracy",
         "text": [
          "0.934041",
          "0.946917",
          null,
          "0.939349"
         ],
         "textposition": "auto",
         "type": "bar",
         "visible": true,
         "x": [
          "Logistic Regression",
          "Random Forest",
          "Multinomial Naive Bayes",
          "SVM"
         ],
         "y": [
          0.934041,
          0.946917,
          null,
          0.939349
         ]
        },
        {
         "hoverinfo": "x+text",
         "name": "GloVe Precision",
         "text": [
          "0.929191",
          "0.951879",
          null,
          "0.935211"
         ],
         "textposition": "auto",
         "type": "bar",
         "visible": false,
         "x": [
          "Logistic Regression",
          "Random Forest",
          "Multinomial Naive Bayes",
          "SVM"
         ],
         "y": [
          0.929191,
          0.951879,
          null,
          0.935211
         ]
        },
        {
         "hoverinfo": "x+text",
         "name": "GloVe Recall",
         "text": [
          "0.933569",
          "0.936631",
          null,
          "0.938516"
         ],
         "textposition": "auto",
         "type": "bar",
         "visible": false,
         "x": [
          "Logistic Regression",
          "Random Forest",
          "Multinomial Naive Bayes",
          "SVM"
         ],
         "y": [
          0.933569,
          0.936631,
          null,
          0.938516
         ]
        },
        {
         "hoverinfo": "x+text",
         "name": "GloVe F1 Score",
         "text": [
          "0.931375",
          "0.944194",
          null,
          "0.936861"
         ],
         "textposition": "auto",
         "type": "bar",
         "visible": false,
         "x": [
          "Logistic Regression",
          "Random Forest",
          "Multinomial Naive Bayes",
          "SVM"
         ],
         "y": [
          0.931375,
          0.944194,
          null,
          0.936861
         ]
        }
       ],
       "layout": {
        "barmode": "group",
        "template": {
         "data": {
          "bar": [
           {
            "error_x": {
             "color": "#2a3f5f"
            },
            "error_y": {
             "color": "#2a3f5f"
            },
            "marker": {
             "line": {
              "color": "#E5ECF6",
              "width": 0.5
             },
             "pattern": {
              "fillmode": "overlay",
              "size": 10,
              "solidity": 0.2
             }
            },
            "type": "bar"
           }
          ],
          "barpolar": [
           {
            "marker": {
             "line": {
              "color": "#E5ECF6",
              "width": 0.5
             },
             "pattern": {
              "fillmode": "overlay",
              "size": 10,
              "solidity": 0.2
             }
            },
            "type": "barpolar"
           }
          ],
          "carpet": [
           {
            "aaxis": {
             "endlinecolor": "#2a3f5f",
             "gridcolor": "white",
             "linecolor": "white",
             "minorgridcolor": "white",
             "startlinecolor": "#2a3f5f"
            },
            "baxis": {
             "endlinecolor": "#2a3f5f",
             "gridcolor": "white",
             "linecolor": "white",
             "minorgridcolor": "white",
             "startlinecolor": "#2a3f5f"
            },
            "type": "carpet"
           }
          ],
          "choropleth": [
           {
            "colorbar": {
             "outlinewidth": 0,
             "ticks": ""
            },
            "type": "choropleth"
           }
          ],
          "contour": [
           {
            "colorbar": {
             "outlinewidth": 0,
             "ticks": ""
            },
            "colorscale": [
             [
              0,
              "#0d0887"
             ],
             [
              0.1111111111111111,
              "#46039f"
             ],
             [
              0.2222222222222222,
              "#7201a8"
             ],
             [
              0.3333333333333333,
              "#9c179e"
             ],
             [
              0.4444444444444444,
              "#bd3786"
             ],
             [
              0.5555555555555556,
              "#d8576b"
             ],
             [
              0.6666666666666666,
              "#ed7953"
             ],
             [
              0.7777777777777778,
              "#fb9f3a"
             ],
             [
              0.8888888888888888,
              "#fdca26"
             ],
             [
              1,
              "#f0f921"
             ]
            ],
            "type": "contour"
           }
          ],
          "contourcarpet": [
           {
            "colorbar": {
             "outlinewidth": 0,
             "ticks": ""
            },
            "type": "contourcarpet"
           }
          ],
          "heatmap": [
           {
            "colorbar": {
             "outlinewidth": 0,
             "ticks": ""
            },
            "colorscale": [
             [
              0,
              "#0d0887"
             ],
             [
              0.1111111111111111,
              "#46039f"
             ],
             [
              0.2222222222222222,
              "#7201a8"
             ],
             [
              0.3333333333333333,
              "#9c179e"
             ],
             [
              0.4444444444444444,
              "#bd3786"
             ],
             [
              0.5555555555555556,
              "#d8576b"
             ],
             [
              0.6666666666666666,
              "#ed7953"
             ],
             [
              0.7777777777777778,
              "#fb9f3a"
             ],
             [
              0.8888888888888888,
              "#fdca26"
             ],
             [
              1,
              "#f0f921"
             ]
            ],
            "type": "heatmap"
           }
          ],
          "heatmapgl": [
           {
            "colorbar": {
             "outlinewidth": 0,
             "ticks": ""
            },
            "colorscale": [
             [
              0,
              "#0d0887"
             ],
             [
              0.1111111111111111,
              "#46039f"
             ],
             [
              0.2222222222222222,
              "#7201a8"
             ],
             [
              0.3333333333333333,
              "#9c179e"
             ],
             [
              0.4444444444444444,
              "#bd3786"
             ],
             [
              0.5555555555555556,
              "#d8576b"
             ],
             [
              0.6666666666666666,
              "#ed7953"
             ],
             [
              0.7777777777777778,
              "#fb9f3a"
             ],
             [
              0.8888888888888888,
              "#fdca26"
             ],
             [
              1,
              "#f0f921"
             ]
            ],
            "type": "heatmapgl"
           }
          ],
          "histogram": [
           {
            "marker": {
             "pattern": {
              "fillmode": "overlay",
              "size": 10,
              "solidity": 0.2
             }
            },
            "type": "histogram"
           }
          ],
          "histogram2d": [
           {
            "colorbar": {
             "outlinewidth": 0,
             "ticks": ""
            },
            "colorscale": [
             [
              0,
              "#0d0887"
             ],
             [
              0.1111111111111111,
              "#46039f"
             ],
             [
              0.2222222222222222,
              "#7201a8"
             ],
             [
              0.3333333333333333,
              "#9c179e"
             ],
             [
              0.4444444444444444,
              "#bd3786"
             ],
             [
              0.5555555555555556,
              "#d8576b"
             ],
             [
              0.6666666666666666,
              "#ed7953"
             ],
             [
              0.7777777777777778,
              "#fb9f3a"
             ],
             [
              0.8888888888888888,
              "#fdca26"
             ],
             [
              1,
              "#f0f921"
             ]
            ],
            "type": "histogram2d"
           }
          ],
          "histogram2dcontour": [
           {
            "colorbar": {
             "outlinewidth": 0,
             "ticks": ""
            },
            "colorscale": [
             [
              0,
              "#0d0887"
             ],
             [
              0.1111111111111111,
              "#46039f"
             ],
             [
              0.2222222222222222,
              "#7201a8"
             ],
             [
              0.3333333333333333,
              "#9c179e"
             ],
             [
              0.4444444444444444,
              "#bd3786"
             ],
             [
              0.5555555555555556,
              "#d8576b"
             ],
             [
              0.6666666666666666,
              "#ed7953"
             ],
             [
              0.7777777777777778,
              "#fb9f3a"
             ],
             [
              0.8888888888888888,
              "#fdca26"
             ],
             [
              1,
              "#f0f921"
             ]
            ],
            "type": "histogram2dcontour"
           }
          ],
          "mesh3d": [
           {
            "colorbar": {
             "outlinewidth": 0,
             "ticks": ""
            },
            "type": "mesh3d"
           }
          ],
          "parcoords": [
           {
            "line": {
             "colorbar": {
              "outlinewidth": 0,
              "ticks": ""
             }
            },
            "type": "parcoords"
           }
          ],
          "pie": [
           {
            "automargin": true,
            "type": "pie"
           }
          ],
          "scatter": [
           {
            "fillpattern": {
             "fillmode": "overlay",
             "size": 10,
             "solidity": 0.2
            },
            "type": "scatter"
           }
          ],
          "scatter3d": [
           {
            "line": {
             "colorbar": {
              "outlinewidth": 0,
              "ticks": ""
             }
            },
            "marker": {
             "colorbar": {
              "outlinewidth": 0,
              "ticks": ""
             }
            },
            "type": "scatter3d"
           }
          ],
          "scattercarpet": [
           {
            "marker": {
             "colorbar": {
              "outlinewidth": 0,
              "ticks": ""
             }
            },
            "type": "scattercarpet"
           }
          ],
          "scattergeo": [
           {
            "marker": {
             "colorbar": {
              "outlinewidth": 0,
              "ticks": ""
             }
            },
            "type": "scattergeo"
           }
          ],
          "scattergl": [
           {
            "marker": {
             "colorbar": {
              "outlinewidth": 0,
              "ticks": ""
             }
            },
            "type": "scattergl"
           }
          ],
          "scattermapbox": [
           {
            "marker": {
             "colorbar": {
              "outlinewidth": 0,
              "ticks": ""
             }
            },
            "type": "scattermapbox"
           }
          ],
          "scatterpolar": [
           {
            "marker": {
             "colorbar": {
              "outlinewidth": 0,
              "ticks": ""
             }
            },
            "type": "scatterpolar"
           }
          ],
          "scatterpolargl": [
           {
            "marker": {
             "colorbar": {
              "outlinewidth": 0,
              "ticks": ""
             }
            },
            "type": "scatterpolargl"
           }
          ],
          "scatterternary": [
           {
            "marker": {
             "colorbar": {
              "outlinewidth": 0,
              "ticks": ""
             }
            },
            "type": "scatterternary"
           }
          ],
          "surface": [
           {
            "colorbar": {
             "outlinewidth": 0,
             "ticks": ""
            },
            "colorscale": [
             [
              0,
              "#0d0887"
             ],
             [
              0.1111111111111111,
              "#46039f"
             ],
             [
              0.2222222222222222,
              "#7201a8"
             ],
             [
              0.3333333333333333,
              "#9c179e"
             ],
             [
              0.4444444444444444,
              "#bd3786"
             ],
             [
              0.5555555555555556,
              "#d8576b"
             ],
             [
              0.6666666666666666,
              "#ed7953"
             ],
             [
              0.7777777777777778,
              "#fb9f3a"
             ],
             [
              0.8888888888888888,
              "#fdca26"
             ],
             [
              1,
              "#f0f921"
             ]
            ],
            "type": "surface"
           }
          ],
          "table": [
           {
            "cells": {
             "fill": {
              "color": "#EBF0F8"
             },
             "line": {
              "color": "white"
             }
            },
            "header": {
             "fill": {
              "color": "#C8D4E3"
             },
             "line": {
              "color": "white"
             }
            },
            "type": "table"
           }
          ]
         },
         "layout": {
          "annotationdefaults": {
           "arrowcolor": "#2a3f5f",
           "arrowhead": 0,
           "arrowwidth": 1
          },
          "autotypenumbers": "strict",
          "coloraxis": {
           "colorbar": {
            "outlinewidth": 0,
            "ticks": ""
           }
          },
          "colorscale": {
           "diverging": [
            [
             0,
             "#8e0152"
            ],
            [
             0.1,
             "#c51b7d"
            ],
            [
             0.2,
             "#de77ae"
            ],
            [
             0.3,
             "#f1b6da"
            ],
            [
             0.4,
             "#fde0ef"
            ],
            [
             0.5,
             "#f7f7f7"
            ],
            [
             0.6,
             "#e6f5d0"
            ],
            [
             0.7,
             "#b8e186"
            ],
            [
             0.8,
             "#7fbc41"
            ],
            [
             0.9,
             "#4d9221"
            ],
            [
             1,
             "#276419"
            ]
           ],
           "sequential": [
            [
             0,
             "#0d0887"
            ],
            [
             0.1111111111111111,
             "#46039f"
            ],
            [
             0.2222222222222222,
             "#7201a8"
            ],
            [
             0.3333333333333333,
             "#9c179e"
            ],
            [
             0.4444444444444444,
             "#bd3786"
            ],
            [
             0.5555555555555556,
             "#d8576b"
            ],
            [
             0.6666666666666666,
             "#ed7953"
            ],
            [
             0.7777777777777778,
             "#fb9f3a"
            ],
            [
             0.8888888888888888,
             "#fdca26"
            ],
            [
             1,
             "#f0f921"
            ]
           ],
           "sequentialminus": [
            [
             0,
             "#0d0887"
            ],
            [
             0.1111111111111111,
             "#46039f"
            ],
            [
             0.2222222222222222,
             "#7201a8"
            ],
            [
             0.3333333333333333,
             "#9c179e"
            ],
            [
             0.4444444444444444,
             "#bd3786"
            ],
            [
             0.5555555555555556,
             "#d8576b"
            ],
            [
             0.6666666666666666,
             "#ed7953"
            ],
            [
             0.7777777777777778,
             "#fb9f3a"
            ],
            [
             0.8888888888888888,
             "#fdca26"
            ],
            [
             1,
             "#f0f921"
            ]
           ]
          },
          "colorway": [
           "#636efa",
           "#EF553B",
           "#00cc96",
           "#ab63fa",
           "#FFA15A",
           "#19d3f3",
           "#FF6692",
           "#B6E880",
           "#FF97FF",
           "#FECB52"
          ],
          "font": {
           "color": "#2a3f5f"
          },
          "geo": {
           "bgcolor": "white",
           "lakecolor": "white",
           "landcolor": "#E5ECF6",
           "showlakes": true,
           "showland": true,
           "subunitcolor": "white"
          },
          "hoverlabel": {
           "align": "left"
          },
          "hovermode": "closest",
          "mapbox": {
           "style": "light"
          },
          "paper_bgcolor": "white",
          "plot_bgcolor": "#E5ECF6",
          "polar": {
           "angularaxis": {
            "gridcolor": "white",
            "linecolor": "white",
            "ticks": ""
           },
           "bgcolor": "#E5ECF6",
           "radialaxis": {
            "gridcolor": "white",
            "linecolor": "white",
            "ticks": ""
           }
          },
          "scene": {
           "xaxis": {
            "backgroundcolor": "#E5ECF6",
            "gridcolor": "white",
            "gridwidth": 2,
            "linecolor": "white",
            "showbackground": true,
            "ticks": "",
            "zerolinecolor": "white"
           },
           "yaxis": {
            "backgroundcolor": "#E5ECF6",
            "gridcolor": "white",
            "gridwidth": 2,
            "linecolor": "white",
            "showbackground": true,
            "ticks": "",
            "zerolinecolor": "white"
           },
           "zaxis": {
            "backgroundcolor": "#E5ECF6",
            "gridcolor": "white",
            "gridwidth": 2,
            "linecolor": "white",
            "showbackground": true,
            "ticks": "",
            "zerolinecolor": "white"
           }
          },
          "shapedefaults": {
           "line": {
            "color": "#2a3f5f"
           }
          },
          "ternary": {
           "aaxis": {
            "gridcolor": "white",
            "linecolor": "white",
            "ticks": ""
           },
           "baxis": {
            "gridcolor": "white",
            "linecolor": "white",
            "ticks": ""
           },
           "bgcolor": "#E5ECF6",
           "caxis": {
            "gridcolor": "white",
            "linecolor": "white",
            "ticks": ""
           }
          },
          "title": {
           "x": 0.05
          },
          "xaxis": {
           "automargin": true,
           "gridcolor": "white",
           "linecolor": "white",
           "ticks": "",
           "title": {
            "standoff": 15
           },
           "zerolinecolor": "white",
           "zerolinewidth": 2
          },
          "yaxis": {
           "automargin": true,
           "gridcolor": "white",
           "linecolor": "white",
           "ticks": "",
           "title": {
            "standoff": 15
           },
           "zerolinecolor": "white",
           "zerolinewidth": 2
          }
         }
        },
        "title": {
         "text": "Performance Comparison of Text Classification Models"
        },
        "updatemenus": [
         {
          "buttons": [
           {
            "args": [
             {
              "visible": [
               true,
               false,
               false,
               false
              ]
             }
            ],
            "label": "Accuracy",
            "method": "update"
           },
           {
            "args": [
             {
              "visible": [
               false,
               true,
               false,
               false
              ]
             }
            ],
            "label": "Precision",
            "method": "update"
           },
           {
            "args": [
             {
              "visible": [
               false,
               false,
               true,
               false
              ]
             }
            ],
            "label": "Recall",
            "method": "update"
           },
           {
            "args": [
             {
              "visible": [
               false,
               false,
               false,
               true
              ]
             }
            ],
            "label": "F1 Score",
            "method": "update"
           }
          ],
          "showactive": true,
          "type": "buttons"
         }
        ],
        "xaxis": {
         "title": {
          "text": "Models"
         }
        },
        "yaxis": {
         "title": {
          "text": "Score"
         }
        }
       }
      },
      "text/html": [
       "<div>                            <div id=\"128f4aa7-046f-4291-a97f-bf2c4c0e7974\" class=\"plotly-graph-div\" style=\"height:525px; width:100%;\"></div>            <script type=\"text/javascript\">                require([\"plotly\"], function(Plotly) {                    window.PLOTLYENV=window.PLOTLYENV || {};                                    if (document.getElementById(\"128f4aa7-046f-4291-a97f-bf2c4c0e7974\")) {                    Plotly.newPlot(                        \"128f4aa7-046f-4291-a97f-bf2c4c0e7974\",                        [{\"hoverinfo\":\"x+text\",\"name\":\"Bag of Words Accuracy\",\"text\":[\"0.994353\",\"0.996612\",\"0.943867\",\"0.992772\"],\"textposition\":\"auto\",\"visible\":true,\"x\":[\"Logistic Regression\",\"Random Forest\",\"Multinomial Naive Bayes\",\"SVM\"],\"y\":[0.994353,0.996612,0.943867,0.992772],\"type\":\"bar\"},{\"hoverinfo\":\"x+text\",\"name\":\"Bag of Words Precision\",\"text\":[\"0.995044\",\"0.996233\",\"0.941773\",\"0.993858\"],\"textposition\":\"auto\",\"visible\":false,\"x\":[\"Logistic Regression\",\"Random Forest\",\"Multinomial Naive Bayes\",\"SVM\"],\"y\":[0.995044,0.996233,0.941773,0.993858],\"type\":\"bar\"},{\"hoverinfo\":\"x+text\",\"name\":\"Bag of Words Recall\",\"text\":[\"0.993168\",\"0.996702\",\"0.941107\",\"0.991048\"],\"textposition\":\"auto\",\"visible\":false,\"x\":[\"Logistic Regression\",\"Random Forest\",\"Multinomial Naive Bayes\",\"SVM\"],\"y\":[0.993168,0.996702,0.941107,0.991048],\"type\":\"bar\"},{\"hoverinfo\":\"x+text\",\"name\":\"Bag of Words F1 Score\",\"text\":[\"0.994105\",\"0.996467\",\"0.94144\",\"0.992451\"],\"textposition\":\"auto\",\"visible\":false,\"x\":[\"Logistic Regression\",\"Random Forest\",\"Multinomial Naive Bayes\",\"SVM\"],\"y\":[0.994105,0.996467,0.94144,0.992451],\"type\":\"bar\"},{\"hoverinfo\":\"x+text\",\"name\":\"TF-IDF Accuracy\",\"text\":[\"0.985995\",\"0.996612\",\"0.928507\",\"0.993336\"],\"textposition\":\"auto\",\"visible\":true,\"x\":[\"Logistic Regression\",\"Random Forest\",\"Multinomial Naive Bayes\",\"SVM\"],\"y\":[0.985995,0.996612,0.928507,0.993336],\"type\":\"bar\"},{\"hoverinfo\":\"x+text\",\"name\":\"TF-IDF Precision\",\"text\":[\"0.981538\",\"0.9967\",\"0.929387\",\"0.991776\"],\"textposition\":\"auto\",\"visible\":false,\"x\":[\"Logistic Regression\",\"Random Forest\",\"Multinomial Naive Bayes\",\"SVM\"],\"y\":[0.981538,0.9967,0.929387,0.991776],\"type\":\"bar\"},{\"hoverinfo\":\"x+text\",\"name\":\"TF-IDF Recall\",\"text\":[\"0.989399\",\"0.996231\",\"0.920848\",\"0.994346\"],\"textposition\":\"auto\",\"visible\":false,\"x\":[\"Logistic Regression\",\"Random Forest\",\"Multinomial Naive Bayes\",\"SVM\"],\"y\":[0.989399,0.996231,0.920848,0.994346],\"type\":\"bar\"},{\"hoverinfo\":\"x+text\",\"name\":\"TF-IDF F1 Score\",\"text\":[\"0.985453\",\"0.996466\",\"0.925098\",\"0.99306\"],\"textposition\":\"auto\",\"visible\":false,\"x\":[\"Logistic Regression\",\"Random Forest\",\"Multinomial Naive Bayes\",\"SVM\"],\"y\":[0.985453,0.996466,0.925098,0.99306],\"type\":\"bar\"},{\"hoverinfo\":\"x+text\",\"name\":\"GloVe Accuracy\",\"text\":[\"0.934041\",\"0.946917\",null,\"0.939349\"],\"textposition\":\"auto\",\"visible\":true,\"x\":[\"Logistic Regression\",\"Random Forest\",\"Multinomial Naive Bayes\",\"SVM\"],\"y\":[0.934041,0.946917,null,0.939349],\"type\":\"bar\"},{\"hoverinfo\":\"x+text\",\"name\":\"GloVe Precision\",\"text\":[\"0.929191\",\"0.951879\",null,\"0.935211\"],\"textposition\":\"auto\",\"visible\":false,\"x\":[\"Logistic Regression\",\"Random Forest\",\"Multinomial Naive Bayes\",\"SVM\"],\"y\":[0.929191,0.951879,null,0.935211],\"type\":\"bar\"},{\"hoverinfo\":\"x+text\",\"name\":\"GloVe Recall\",\"text\":[\"0.933569\",\"0.936631\",null,\"0.938516\"],\"textposition\":\"auto\",\"visible\":false,\"x\":[\"Logistic Regression\",\"Random Forest\",\"Multinomial Naive Bayes\",\"SVM\"],\"y\":[0.933569,0.936631,null,0.938516],\"type\":\"bar\"},{\"hoverinfo\":\"x+text\",\"name\":\"GloVe F1 Score\",\"text\":[\"0.931375\",\"0.944194\",null,\"0.936861\"],\"textposition\":\"auto\",\"visible\":false,\"x\":[\"Logistic Regression\",\"Random Forest\",\"Multinomial Naive Bayes\",\"SVM\"],\"y\":[0.931375,0.944194,null,0.936861],\"type\":\"bar\"}],                        {\"template\":{\"data\":{\"histogram2dcontour\":[{\"type\":\"histogram2dcontour\",\"colorbar\":{\"outlinewidth\":0,\"ticks\":\"\"},\"colorscale\":[[0.0,\"#0d0887\"],[0.1111111111111111,\"#46039f\"],[0.2222222222222222,\"#7201a8\"],[0.3333333333333333,\"#9c179e\"],[0.4444444444444444,\"#bd3786\"],[0.5555555555555556,\"#d8576b\"],[0.6666666666666666,\"#ed7953\"],[0.7777777777777778,\"#fb9f3a\"],[0.8888888888888888,\"#fdca26\"],[1.0,\"#f0f921\"]]}],\"choropleth\":[{\"type\":\"choropleth\",\"colorbar\":{\"outlinewidth\":0,\"ticks\":\"\"}}],\"histogram2d\":[{\"type\":\"histogram2d\",\"colorbar\":{\"outlinewidth\":0,\"ticks\":\"\"},\"colorscale\":[[0.0,\"#0d0887\"],[0.1111111111111111,\"#46039f\"],[0.2222222222222222,\"#7201a8\"],[0.3333333333333333,\"#9c179e\"],[0.4444444444444444,\"#bd3786\"],[0.5555555555555556,\"#d8576b\"],[0.6666666666666666,\"#ed7953\"],[0.7777777777777778,\"#fb9f3a\"],[0.8888888888888888,\"#fdca26\"],[1.0,\"#f0f921\"]]}],\"heatmap\":[{\"type\":\"heatmap\",\"colorbar\":{\"outlinewidth\":0,\"ticks\":\"\"},\"colorscale\":[[0.0,\"#0d0887\"],[0.1111111111111111,\"#46039f\"],[0.2222222222222222,\"#7201a8\"],[0.3333333333333333,\"#9c179e\"],[0.4444444444444444,\"#bd3786\"],[0.5555555555555556,\"#d8576b\"],[0.6666666666666666,\"#ed7953\"],[0.7777777777777778,\"#fb9f3a\"],[0.8888888888888888,\"#fdca26\"],[1.0,\"#f0f921\"]]}],\"heatmapgl\":[{\"type\":\"heatmapgl\",\"colorbar\":{\"outlinewidth\":0,\"ticks\":\"\"},\"colorscale\":[[0.0,\"#0d0887\"],[0.1111111111111111,\"#46039f\"],[0.2222222222222222,\"#7201a8\"],[0.3333333333333333,\"#9c179e\"],[0.4444444444444444,\"#bd3786\"],[0.5555555555555556,\"#d8576b\"],[0.6666666666666666,\"#ed7953\"],[0.7777777777777778,\"#fb9f3a\"],[0.8888888888888888,\"#fdca26\"],[1.0,\"#f0f921\"]]}],\"contourcarpet\":[{\"type\":\"contourcarpet\",\"colorbar\":{\"outlinewidth\":0,\"ticks\":\"\"}}],\"contour\":[{\"type\":\"contour\",\"colorbar\":{\"outlinewidth\":0,\"ticks\":\"\"},\"colorscale\":[[0.0,\"#0d0887\"],[0.1111111111111111,\"#46039f\"],[0.2222222222222222,\"#7201a8\"],[0.3333333333333333,\"#9c179e\"],[0.4444444444444444,\"#bd3786\"],[0.5555555555555556,\"#d8576b\"],[0.6666666666666666,\"#ed7953\"],[0.7777777777777778,\"#fb9f3a\"],[0.8888888888888888,\"#fdca26\"],[1.0,\"#f0f921\"]]}],\"surface\":[{\"type\":\"surface\",\"colorbar\":{\"outlinewidth\":0,\"ticks\":\"\"},\"colorscale\":[[0.0,\"#0d0887\"],[0.1111111111111111,\"#46039f\"],[0.2222222222222222,\"#7201a8\"],[0.3333333333333333,\"#9c179e\"],[0.4444444444444444,\"#bd3786\"],[0.5555555555555556,\"#d8576b\"],[0.6666666666666666,\"#ed7953\"],[0.7777777777777778,\"#fb9f3a\"],[0.8888888888888888,\"#fdca26\"],[1.0,\"#f0f921\"]]}],\"mesh3d\":[{\"type\":\"mesh3d\",\"colorbar\":{\"outlinewidth\":0,\"ticks\":\"\"}}],\"scatter\":[{\"fillpattern\":{\"fillmode\":\"overlay\",\"size\":10,\"solidity\":0.2},\"type\":\"scatter\"}],\"parcoords\":[{\"type\":\"parcoords\",\"line\":{\"colorbar\":{\"outlinewidth\":0,\"ticks\":\"\"}}}],\"scatterpolargl\":[{\"type\":\"scatterpolargl\",\"marker\":{\"colorbar\":{\"outlinewidth\":0,\"ticks\":\"\"}}}],\"bar\":[{\"error_x\":{\"color\":\"#2a3f5f\"},\"error_y\":{\"color\":\"#2a3f5f\"},\"marker\":{\"line\":{\"color\":\"#E5ECF6\",\"width\":0.5},\"pattern\":{\"fillmode\":\"overlay\",\"size\":10,\"solidity\":0.2}},\"type\":\"bar\"}],\"scattergeo\":[{\"type\":\"scattergeo\",\"marker\":{\"colorbar\":{\"outlinewidth\":0,\"ticks\":\"\"}}}],\"scatterpolar\":[{\"type\":\"scatterpolar\",\"marker\":{\"colorbar\":{\"outlinewidth\":0,\"ticks\":\"\"}}}],\"histogram\":[{\"marker\":{\"pattern\":{\"fillmode\":\"overlay\",\"size\":10,\"solidity\":0.2}},\"type\":\"histogram\"}],\"scattergl\":[{\"type\":\"scattergl\",\"marker\":{\"colorbar\":{\"outlinewidth\":0,\"ticks\":\"\"}}}],\"scatter3d\":[{\"type\":\"scatter3d\",\"line\":{\"colorbar\":{\"outlinewidth\":0,\"ticks\":\"\"}},\"marker\":{\"colorbar\":{\"outlinewidth\":0,\"ticks\":\"\"}}}],\"scattermapbox\":[{\"type\":\"scattermapbox\",\"marker\":{\"colorbar\":{\"outlinewidth\":0,\"ticks\":\"\"}}}],\"scatterternary\":[{\"type\":\"scatterternary\",\"marker\":{\"colorbar\":{\"outlinewidth\":0,\"ticks\":\"\"}}}],\"scattercarpet\":[{\"type\":\"scattercarpet\",\"marker\":{\"colorbar\":{\"outlinewidth\":0,\"ticks\":\"\"}}}],\"carpet\":[{\"aaxis\":{\"endlinecolor\":\"#2a3f5f\",\"gridcolor\":\"white\",\"linecolor\":\"white\",\"minorgridcolor\":\"white\",\"startlinecolor\":\"#2a3f5f\"},\"baxis\":{\"endlinecolor\":\"#2a3f5f\",\"gridcolor\":\"white\",\"linecolor\":\"white\",\"minorgridcolor\":\"white\",\"startlinecolor\":\"#2a3f5f\"},\"type\":\"carpet\"}],\"table\":[{\"cells\":{\"fill\":{\"color\":\"#EBF0F8\"},\"line\":{\"color\":\"white\"}},\"header\":{\"fill\":{\"color\":\"#C8D4E3\"},\"line\":{\"color\":\"white\"}},\"type\":\"table\"}],\"barpolar\":[{\"marker\":{\"line\":{\"color\":\"#E5ECF6\",\"width\":0.5},\"pattern\":{\"fillmode\":\"overlay\",\"size\":10,\"solidity\":0.2}},\"type\":\"barpolar\"}],\"pie\":[{\"automargin\":true,\"type\":\"pie\"}]},\"layout\":{\"autotypenumbers\":\"strict\",\"colorway\":[\"#636efa\",\"#EF553B\",\"#00cc96\",\"#ab63fa\",\"#FFA15A\",\"#19d3f3\",\"#FF6692\",\"#B6E880\",\"#FF97FF\",\"#FECB52\"],\"font\":{\"color\":\"#2a3f5f\"},\"hovermode\":\"closest\",\"hoverlabel\":{\"align\":\"left\"},\"paper_bgcolor\":\"white\",\"plot_bgcolor\":\"#E5ECF6\",\"polar\":{\"bgcolor\":\"#E5ECF6\",\"angularaxis\":{\"gridcolor\":\"white\",\"linecolor\":\"white\",\"ticks\":\"\"},\"radialaxis\":{\"gridcolor\":\"white\",\"linecolor\":\"white\",\"ticks\":\"\"}},\"ternary\":{\"bgcolor\":\"#E5ECF6\",\"aaxis\":{\"gridcolor\":\"white\",\"linecolor\":\"white\",\"ticks\":\"\"},\"baxis\":{\"gridcolor\":\"white\",\"linecolor\":\"white\",\"ticks\":\"\"},\"caxis\":{\"gridcolor\":\"white\",\"linecolor\":\"white\",\"ticks\":\"\"}},\"coloraxis\":{\"colorbar\":{\"outlinewidth\":0,\"ticks\":\"\"}},\"colorscale\":{\"sequential\":[[0.0,\"#0d0887\"],[0.1111111111111111,\"#46039f\"],[0.2222222222222222,\"#7201a8\"],[0.3333333333333333,\"#9c179e\"],[0.4444444444444444,\"#bd3786\"],[0.5555555555555556,\"#d8576b\"],[0.6666666666666666,\"#ed7953\"],[0.7777777777777778,\"#fb9f3a\"],[0.8888888888888888,\"#fdca26\"],[1.0,\"#f0f921\"]],\"sequentialminus\":[[0.0,\"#0d0887\"],[0.1111111111111111,\"#46039f\"],[0.2222222222222222,\"#7201a8\"],[0.3333333333333333,\"#9c179e\"],[0.4444444444444444,\"#bd3786\"],[0.5555555555555556,\"#d8576b\"],[0.6666666666666666,\"#ed7953\"],[0.7777777777777778,\"#fb9f3a\"],[0.8888888888888888,\"#fdca26\"],[1.0,\"#f0f921\"]],\"diverging\":[[0,\"#8e0152\"],[0.1,\"#c51b7d\"],[0.2,\"#de77ae\"],[0.3,\"#f1b6da\"],[0.4,\"#fde0ef\"],[0.5,\"#f7f7f7\"],[0.6,\"#e6f5d0\"],[0.7,\"#b8e186\"],[0.8,\"#7fbc41\"],[0.9,\"#4d9221\"],[1,\"#276419\"]]},\"xaxis\":{\"gridcolor\":\"white\",\"linecolor\":\"white\",\"ticks\":\"\",\"title\":{\"standoff\":15},\"zerolinecolor\":\"white\",\"automargin\":true,\"zerolinewidth\":2},\"yaxis\":{\"gridcolor\":\"white\",\"linecolor\":\"white\",\"ticks\":\"\",\"title\":{\"standoff\":15},\"zerolinecolor\":\"white\",\"automargin\":true,\"zerolinewidth\":2},\"scene\":{\"xaxis\":{\"backgroundcolor\":\"#E5ECF6\",\"gridcolor\":\"white\",\"linecolor\":\"white\",\"showbackground\":true,\"ticks\":\"\",\"zerolinecolor\":\"white\",\"gridwidth\":2},\"yaxis\":{\"backgroundcolor\":\"#E5ECF6\",\"gridcolor\":\"white\",\"linecolor\":\"white\",\"showbackground\":true,\"ticks\":\"\",\"zerolinecolor\":\"white\",\"gridwidth\":2},\"zaxis\":{\"backgroundcolor\":\"#E5ECF6\",\"gridcolor\":\"white\",\"linecolor\":\"white\",\"showbackground\":true,\"ticks\":\"\",\"zerolinecolor\":\"white\",\"gridwidth\":2}},\"shapedefaults\":{\"line\":{\"color\":\"#2a3f5f\"}},\"annotationdefaults\":{\"arrowcolor\":\"#2a3f5f\",\"arrowhead\":0,\"arrowwidth\":1},\"geo\":{\"bgcolor\":\"white\",\"landcolor\":\"#E5ECF6\",\"subunitcolor\":\"white\",\"showland\":true,\"showlakes\":true,\"lakecolor\":\"white\"},\"title\":{\"x\":0.05},\"mapbox\":{\"style\":\"light\"}}},\"title\":{\"text\":\"Performance Comparison of Text Classification Models\"},\"updatemenus\":[{\"buttons\":[{\"args\":[{\"visible\":[true,false,false,false]}],\"label\":\"Accuracy\",\"method\":\"update\"},{\"args\":[{\"visible\":[false,true,false,false]}],\"label\":\"Precision\",\"method\":\"update\"},{\"args\":[{\"visible\":[false,false,true,false]}],\"label\":\"Recall\",\"method\":\"update\"},{\"args\":[{\"visible\":[false,false,false,true]}],\"label\":\"F1 Score\",\"method\":\"update\"}],\"showactive\":true,\"type\":\"buttons\"}],\"xaxis\":{\"title\":{\"text\":\"Models\"}},\"yaxis\":{\"title\":{\"text\":\"Score\"}},\"barmode\":\"group\"},                        {\"responsive\": true}                    ).then(function(){\n",
       "                            \n",
       "var gd = document.getElementById('128f4aa7-046f-4291-a97f-bf2c4c0e7974');\n",
       "var x = new MutationObserver(function (mutations, observer) {{\n",
       "        var display = window.getComputedStyle(gd).display;\n",
       "        if (!display || display === 'none') {{\n",
       "            console.log([gd, 'removed!']);\n",
       "            Plotly.purge(gd);\n",
       "            observer.disconnect();\n",
       "        }}\n",
       "}});\n",
       "\n",
       "// Listen for the removal of the full notebook cells\n",
       "var notebookContainer = gd.closest('#notebook-container');\n",
       "if (notebookContainer) {{\n",
       "    x.observe(notebookContainer, {childList: true});\n",
       "}}\n",
       "\n",
       "// Listen for the clearing of the current output cell\n",
       "var outputEl = gd.closest('.output');\n",
       "if (outputEl) {{\n",
       "    x.observe(outputEl, {childList: true});\n",
       "}}\n",
       "\n",
       "                        })                };                });            </script>        </div>"
      ]
     },
     "metadata": {},
     "output_type": "display_data"
    }
   ],
   "source": [
    "import plotly.graph_objects as go\n",
    "\n",
    "models = ['Logistic Regression', 'Random Forest', 'Multinomial Naive Bayes', 'SVM']\n",
    "\n",
    "performance_data = {\n",
    "    'Bag of Words': {\n",
    "        'Accuracy': [0.994353, 0.996612, 0.943867, 0.992772],\n",
    "        'Precision': [0.995044, 0.996233, 0.941773, 0.993858],\n",
    "        'Recall': [0.993168, 0.996702, 0.941107, 0.991048],\n",
    "        'F1 Score': [0.994105, 0.996467, 0.941440, 0.992451]\n",
    "    },\n",
    "    'TF-IDF': {\n",
    "        'Accuracy': [0.985995, 0.996612, 0.928507, 0.993336],\n",
    "        'Precision': [0.981538, 0.996700, 0.929387, 0.991776],\n",
    "        'Recall': [0.989399, 0.996231, 0.920848, 0.994346],\n",
    "        'F1 Score': [0.985453, 0.996466, 0.925098, 0.993060]\n",
    "    },\n",
    "    'GloVe': {\n",
    "        'Accuracy': [0.934041, 0.946917, None, 0.939349],\n",
    "        'Precision': [0.929191, 0.951879, None, 0.935211],\n",
    "        'Recall': [0.933569, 0.936631, None, 0.938516],\n",
    "        'F1 Score': [0.931375, 0.944194, None, 0.936861]\n",
    "    }\n",
    "}\n",
    "\n",
    "fig = go.Figure()\n",
    "\n",
    "for technique, data in performance_data.items():\n",
    "    for metric, values in data.items():\n",
    "        fig.add_trace(go.Bar(\n",
    "            x=models,\n",
    "            y=values,\n",
    "            name=f'{technique} {metric}',\n",
    "            text=values,\n",
    "            textposition='auto',\n",
    "            hoverinfo='x+text',\n",
    "            visible=metric == 'Accuracy',\n",
    "        ))\n",
    "\n",
    "buttons = []\n",
    "for metric in performance_data['Bag of Words'].keys():\n",
    "    buttons.append(dict(\n",
    "        label=metric,\n",
    "        method=\"update\",\n",
    "        args=[{\"visible\": [metric == m for m in ['Accuracy', 'Precision', 'Recall', 'F1 Score']]}]\n",
    "    ))\n",
    "\n",
    "fig.update_layout(\n",
    "    title='Performance Comparison of Text Classification Models',\n",
    "    updatemenus=[dict(\n",
    "        type=\"buttons\",\n",
    "        showactive=True,\n",
    "        buttons=buttons,\n",
    "    )],\n",
    "    xaxis_title='Models',\n",
    "    yaxis_title='Score',\n",
    "    barmode='group'\n",
    ")\n",
    "\n",
    "fig.show()"
   ]
  },
  {
   "cell_type": "markdown",
   "id": "f2875ff5",
   "metadata": {},
   "source": [
    "## The performance metrics presented are:\n",
    "\n",
    "1) Accuracy: The proportion of correct predictions out of the total predictions made.\n",
    "\n",
    "2) Precision: The proportion of true positives out of all predicted positives (true positives + false positives).\n",
    "\n",
    "3) Recall: The proportion of true positives out of all actual positives (true positives + false negatives).\n",
    "\n",
    "4) F1 Score: The harmonic mean of precision and recall, providing a single metric that balances both.\n",
    "\n",
    "## Analysis of the results:\n",
    "### Bag of Words:\n",
    "1) Logistic Regression: The model achieved 99.44% accuracy, with 99.50% precision, 99.32% recall, and an F1 score of 99.41%. This model performed exceptionally well on the dataset.\n",
    "\n",
    "2) Random Forest: The model achieved 99.66% accuracy, with 99.62% precision, 99.67% recall, and an F1 score of 99.65%. This model performed the best among all the models and text representation techniques.\n",
    "\n",
    "3) Multinomial Naive Bayes: The model achieved 94.39% accuracy, with 94.18% precision, 94.11% recall, and an F1 score of 94.14%. This model had the lowest performance among the Bag of Words models.\n",
    "\n",
    "4) SVM: The model achieved 99.28% accuracy, with 99.39% precision, 99.10% recall, and an F1 score of 99.25%. This model also performed well, but not as well as Random Forest.\n",
    "\n",
    "### TF-IDF:\n",
    "1) Logistic Regression: The model achieved 98.60% accuracy, with 98.15% precision, 98.94% recall, and an F1 score of 98.55%. This model performed well but not as well as its Bag of Words counterpart.\n",
    "\n",
    "2) Random Forest: The model achieved 99.66% accuracy, with 99.67% precision, 99.62% recall, and an F1 score of 99.65%. This model performed at a similar level to the Bag of Words Random Forest model.\n",
    "\n",
    "3) Multinomial Naive Bayes: The model achieved 92.85% accuracy, with 92.94% precision, 92.08% recall, and an F1 score of 92.51%. This model performed the worst among all the models and text representation techniques.\n",
    "\n",
    "4) SVM: The model achieved 99.33% accuracy, with 99.18% precision, 99.43% recall, and an F1 score of 99.31%. This model performed better with TF-IDF than with Bag of Words.\n",
    "\n",
    "### GloVe:\n",
    "1) Logistic Regression: The model achieved 93.40% accuracy, with 92.92% precision, 93.36% recall, and an F1 score of 93.14%. This model had the lowest performance among the GloVe models.\n",
    "\n",
    "2) Random Forest: The model achieved 94.69% accuracy, with 95.19% precision, 93.66% recall, and an F1 score of 94.42%. This model performed better than Logistic Regression but not as well as SVM.\n",
    "\n",
    "3) SVM: The model achieved 93.93% accuracy, with 93.52% precision, 93.85% recall, and an F1 score of 93.69%. This model performed the best among the GloVe models but not as well as the other text representation techniques.\n",
    "\n",
    "## The top models for each input type:\n",
    "\n",
    "#### Bag of Words:\n",
    "Random Forest with an accuracy of 0.996612, precision of 0.996233, recall of 0.996702, and F1 score of 0.996467.\n",
    "\n",
    "#### TF-IDF:\n",
    "Random Forest with an accuracy of 0.996612, precision of 0.996700, recall of 0.996231, and F1 score of 0.996466.\n",
    "\n",
    "#### GloVe:\n",
    "Random Forest with an accuracy of 0.946917, precision of 0.951879, recall of 0.936631, and F1 score of 0.944194.\n",
    "\n",
    "## In summary, the Random Forest model using Bag of Words and TF-IDF text representation techniques achieved the highest performance, with an accuracy of 99.66% and F1 scores of 99.65% and 99.65%, respectively. GloVe-based models generally underperformed compared to Bag of Words and TF-IDF models. Among the classification models, Multinomial Naive Bayes had the lowest performance across all text representation techniques.\n",
    "\n",
    "\n",
    "## Thus, we can consider using the Random Forest model with either the Bag of Words or TF-IDF input types. (before optimisation)"
   ]
  },
  {
   "cell_type": "markdown",
   "id": "8e16e066",
   "metadata": {},
   "source": [
    "## -------------------------------------------------------------------------------------------------------------------------------\n",
    "## To Perform Optimisation using analysis of performance above.\n",
    "\n",
    "## Reason for choice in parameters in optimisation -\n",
    "#### Logistic Regression:\n",
    "1) 'C': This parameter controls the inverse of the regularization strength. Smaller values result in stronger regularization, which can help avoid overfitting. We have chosen a range of values that cover both small (stronger regularization) and large (weaker regularization) values, since our model's performance is already quite high, we've included larger values like 100, to explore less regularized models.\n",
    "\n",
    "2) 'penalty': This parameter determines the type of regularization applied to the model (L1, L2). Different penalties can lead to different feature selection behavior in the model, which might affect the model's performance.\n",
    "\n",
    "3) 'solver': This parameter defines the optimization algorithm used for training the model. Different solvers can perform differently depending on the problem and data size.\n",
    "\n",
    "#### Random Forest:\n",
    "1) 'n_estimators': This parameter controls the number of trees in the forest. Increasing the number of trees can lead to better performance but also requires more computational resources. Since our model is already performing well, we've focused on a range of higher values.\n",
    "\n",
    "2) 'max_depth': This parameter defines the maximum depth of each tree. Limiting the depth can help prevent overfitting. We have included a range of values from no limit (None) to moderately deep trees (40).\n",
    "\n",
    "3) 'min_samples_split': This parameter determines the minimum number of samples required to split an internal node. Higher values help prevent overfitting but can lead to underfitting if too high.\n",
    "\n",
    "4) 'min_samples_leaf': This parameter controls the minimum number of samples required to be at a leaf node. Increasing this value can help prevent overfitting by creating less complex trees.\n",
    "\n",
    "#### Multinomial Naive Bayes:\n",
    "1) 'alpha': This parameter is a smoothing parameter (Laplace or Lidstone smoothing) applied to the model to handle unseen features in the test data. A range of values is provided to help find the best balance between overfitting and underfitting.\n",
    "\n",
    "#### SVM:\n",
    "2) 'C': This parameter is the regularization parameter, similar to the one in logistic regression. It determines the balance between achieving a low training error and a low testing error (overfitting). We've chosen a range of values to explore different levels of regularization.\n",
    "\n",
    "3) 'kernel': This parameter defines the kernel function used by the SVM. Different kernel functions can lead to different decision boundaries and affect the model's performance.\n",
    "\n",
    "4) 'gamma': This parameter is the kernel coefficient for the 'rbf', 'linear' kernels. It controls the shape of the decision boundary. Including 'scale' and 'auto' in the search allows for different scaling strategies, which can impact the model's performance."
   ]
  },
  {
   "cell_type": "code",
   "execution_count": 9,
   "id": "3bff77a6",
   "metadata": {
    "scrolled": false
   },
   "outputs": [
    {
     "name": "stdout",
     "output_type": "stream",
     "text": [
      "===== Bag of Words =====\n",
      "Optimized Logistic Regression:\n",
      "Accuracy: 0.99\n",
      "Precision: 0.99\n",
      "Recall: 0.99\n",
      "F1 Score: 0.99\n",
      "Best Parameters: {'solver': 'liblinear', 'penalty': 'l2', 'C': 10}\n",
      "\n",
      "Optimized Random Forest:\n",
      "Accuracy: 1.00\n",
      "Precision: 1.00\n",
      "Recall: 1.00\n",
      "F1 Score: 1.00\n",
      "Best Parameters: {'n_estimators': 200, 'min_samples_split': 5, 'min_samples_leaf': 1, 'max_depth': None}\n",
      "\n"
     ]
    },
    {
     "name": "stderr",
     "output_type": "stream",
     "text": [
      "C:\\Users\\Tee Chang Zen\\anaconda3\\lib\\site-packages\\sklearn\\model_selection\\_search.py:305: UserWarning: The total space of parameters 3 is smaller than n_iter=5. Running 3 iterations. For exhaustive searches, use GridSearchCV.\n",
      "  warnings.warn(\n"
     ]
    },
    {
     "name": "stdout",
     "output_type": "stream",
     "text": [
      "Optimized Multinomial Naive Bayes:\n",
      "Accuracy: 0.94\n",
      "Precision: 0.95\n",
      "Recall: 0.94\n",
      "F1 Score: 0.94\n",
      "Best Parameters: {'alpha': 0.1}\n",
      "\n",
      "Optimized SVM:\n",
      "Accuracy: 0.99\n",
      "Precision: 1.00\n",
      "Recall: 0.99\n",
      "F1 Score: 0.99\n",
      "Best Parameters: {'kernel': 'rbf', 'gamma': 'scale', 'C': 10}\n",
      "\n",
      "===== TF-IDF =====\n"
     ]
    },
    {
     "name": "stderr",
     "output_type": "stream",
     "text": [
      "C:\\Users\\Tee Chang Zen\\anaconda3\\lib\\site-packages\\sklearn\\linear_model\\_sag.py:350: ConvergenceWarning: The max_iter was reached which means the coef_ did not converge\n",
      "  warnings.warn(\n"
     ]
    },
    {
     "name": "stdout",
     "output_type": "stream",
     "text": [
      "Optimized Logistic Regression:\n",
      "Accuracy: 0.99\n",
      "Precision: 0.99\n",
      "Recall: 0.99\n",
      "F1 Score: 0.99\n",
      "Best Parameters: {'solver': 'saga', 'penalty': 'l1', 'C': 100}\n",
      "\n",
      "Optimized Random Forest:\n",
      "Accuracy: 1.00\n",
      "Precision: 1.00\n",
      "Recall: 1.00\n",
      "F1 Score: 1.00\n",
      "Best Parameters: {'n_estimators': 200, 'min_samples_split': 5, 'min_samples_leaf': 1, 'max_depth': 40}\n",
      "\n"
     ]
    },
    {
     "name": "stderr",
     "output_type": "stream",
     "text": [
      "C:\\Users\\Tee Chang Zen\\anaconda3\\lib\\site-packages\\sklearn\\model_selection\\_search.py:305: UserWarning: The total space of parameters 3 is smaller than n_iter=5. Running 3 iterations. For exhaustive searches, use GridSearchCV.\n",
      "  warnings.warn(\n"
     ]
    },
    {
     "name": "stdout",
     "output_type": "stream",
     "text": [
      "Optimized Multinomial Naive Bayes:\n",
      "Accuracy: 0.93\n",
      "Precision: 0.94\n",
      "Recall: 0.92\n",
      "F1 Score: 0.93\n",
      "Best Parameters: {'alpha': 0.1}\n",
      "\n",
      "Optimized SVM:\n",
      "Accuracy: 0.99\n",
      "Precision: 0.99\n",
      "Recall: 0.99\n",
      "F1 Score: 0.99\n",
      "Best Parameters: {'kernel': 'linear', 'gamma': 'auto', 'C': 10}\n",
      "\n",
      "===== GloVe =====\n",
      "Optimized Logistic Regression:\n",
      "Accuracy: 0.94\n",
      "Precision: 0.93\n",
      "Recall: 0.94\n",
      "F1 Score: 0.93\n",
      "Best Parameters: {'solver': 'liblinear', 'penalty': 'l2', 'C': 10}\n",
      "\n",
      "Optimized Random Forest:\n",
      "Accuracy: 0.95\n",
      "Precision: 0.95\n",
      "Recall: 0.93\n",
      "F1 Score: 0.94\n",
      "Best Parameters: {'n_estimators': 200, 'min_samples_split': 5, 'min_samples_leaf': 1, 'max_depth': None}\n",
      "\n",
      "Optimized SVM:\n",
      "Accuracy: 0.94\n",
      "Precision: 0.93\n",
      "Recall: 0.94\n",
      "F1 Score: 0.94\n",
      "Best Parameters: {'kernel': 'rbf', 'gamma': 'auto', 'C': 100}\n",
      "\n"
     ]
    }
   ],
   "source": [
    "from sklearn.model_selection import RandomizedSearchCV\n",
    "\n",
    "# Define the parameter grids for each model\n",
    "param_grids = {\n",
    "    'Logistic Regression': {\n",
    "        'model': models['Logistic Regression'],\n",
    "        'params': {\n",
    "                    'C': [1, 10, 100],\n",
    "                    'penalty': ['l1', 'l2'],\n",
    "                    'solver': ['liblinear', 'saga']\n",
    "                  }  # Define the appropriate parameter grid\n",
    "    },\n",
    "    'Random Forest': {\n",
    "        'model': models['Random Forest'],\n",
    "        'params': {\n",
    "                    'n_estimators': [100, 200],\n",
    "                    'max_depth': [None, 40],\n",
    "                    'min_samples_split': [2, 5],\n",
    "                    'min_samples_leaf': [1, 2]\n",
    "                  }  # Define the appropriate parameter grid\n",
    "    },\n",
    "    'Multinomial Naive Bayes': {\n",
    "        'model': models['Multinomial Naive Bayes'],\n",
    "        'params': {\n",
    "                    'alpha': [0.1, 1, 5]\n",
    "                  }  # Define the appropriate parameter grid\n",
    "    },\n",
    "    'SVM': {\n",
    "        'model': models['SVM'],\n",
    "        'params': {\n",
    "                    'C': [1, 10, 100],\n",
    "                    'kernel': ['linear', 'rbf'],\n",
    "                    'gamma': ['scale', 'auto']\n",
    "                  }  # Define the appropriate parameter grid\n",
    "    }\n",
    "}\n",
    "\n",
    "optimized_models = {}\n",
    "\n",
    "for input_name, (X_train_input, X_test_input) in inputs.items():\n",
    "    optimized_models[input_name] = {}\n",
    "    print(f'===== {input_name} =====')\n",
    "    for name, model_grid in param_grids.items():\n",
    "        if name == 'Multinomial Naive Bayes' and input_name == 'GloVe':\n",
    "            # Skip Multinomial Naive Bayes for non-negative input types\n",
    "            continue\n",
    "        grid_search = RandomizedSearchCV(estimator=model_grid['model'], param_distributions=model_grid['params'], cv=3, scoring='accuracy', n_jobs=-1, n_iter=5)\n",
    "        grid_search.fit(X_train_input, y_train)\n",
    "        best_model = grid_search.best_estimator_\n",
    "        y_pred_best_model = best_model.predict(X_test_input)\n",
    "\n",
    "        optimized_models[input_name][name] = best_model\n",
    "\n",
    "        accuracy_best_model = accuracy_score(y_test, y_pred_best_model)\n",
    "        precision_best_model = precision_score(y_test, y_pred_best_model)\n",
    "        recall_best_model = recall_score(y_test, y_pred_best_model)\n",
    "        f1_best_model = f1_score(y_test, y_pred_best_model)\n",
    "\n",
    "        print(f'Optimized {name}:')\n",
    "        print(f'Accuracy: {accuracy_best_model:.2f}')\n",
    "        print(f'Precision: {precision_best_model:.2f}')\n",
    "        print(f'Recall: {recall_best_model:.2f}')\n",
    "        print(f'F1 Score: {f1_best_model:.2f}')\n",
    "        print(f'Best Parameters: {grid_search.best_params_}')\n",
    "        print()"
   ]
  },
  {
   "cell_type": "markdown",
   "id": "3763f4ea",
   "metadata": {},
   "source": [
    "Note: To ignore the errors and warnings, RandomizedSearchCV can still handle these cases and still return the best results."
   ]
  },
  {
   "cell_type": "code",
   "execution_count": 14,
   "id": "38c731b4",
   "metadata": {},
   "outputs": [
    {
     "data": {
      "application/vnd.plotly.v1+json": {
       "config": {
        "plotlyServerURL": "https://plot.ly"
       },
       "data": [
        {
         "marker": {
          "color": "rgb(102, 153, 255)"
         },
         "name": "Accuracy",
         "type": "bar",
         "x": [
          "Logistic Regression",
          "Random Forest",
          "Multinomial Naive Bayes",
          "SVM"
         ],
         "y": [
          0.99,
          1,
          0.94,
          0.99
         ]
        },
        {
         "marker": {
          "color": "rgb(255, 102, 102)"
         },
         "name": "Precision",
         "type": "bar",
         "x": [
          "Logistic Regression",
          "Random Forest",
          "Multinomial Naive Bayes",
          "SVM"
         ],
         "y": [
          0.99,
          1,
          0.95,
          1
         ]
        },
        {
         "marker": {
          "color": "rgb(102, 255, 178)"
         },
         "name": "Recall",
         "type": "bar",
         "x": [
          "Logistic Regression",
          "Random Forest",
          "Multinomial Naive Bayes",
          "SVM"
         ],
         "y": [
          0.99,
          1,
          0.94,
          0.99
         ]
        },
        {
         "marker": {
          "color": "rgb(255, 178, 102)"
         },
         "name": "F1 Score",
         "type": "bar",
         "x": [
          "Logistic Regression",
          "Random Forest",
          "Multinomial Naive Bayes",
          "SVM"
         ],
         "y": [
          0.99,
          1,
          0.94,
          0.99
         ]
        }
       ],
       "layout": {
        "bargap": 0.15,
        "bargroupgap": 0.1,
        "barmode": "group",
        "template": {
         "data": {
          "bar": [
           {
            "error_x": {
             "color": "#2a3f5f"
            },
            "error_y": {
             "color": "#2a3f5f"
            },
            "marker": {
             "line": {
              "color": "#E5ECF6",
              "width": 0.5
             },
             "pattern": {
              "fillmode": "overlay",
              "size": 10,
              "solidity": 0.2
             }
            },
            "type": "bar"
           }
          ],
          "barpolar": [
           {
            "marker": {
             "line": {
              "color": "#E5ECF6",
              "width": 0.5
             },
             "pattern": {
              "fillmode": "overlay",
              "size": 10,
              "solidity": 0.2
             }
            },
            "type": "barpolar"
           }
          ],
          "carpet": [
           {
            "aaxis": {
             "endlinecolor": "#2a3f5f",
             "gridcolor": "white",
             "linecolor": "white",
             "minorgridcolor": "white",
             "startlinecolor": "#2a3f5f"
            },
            "baxis": {
             "endlinecolor": "#2a3f5f",
             "gridcolor": "white",
             "linecolor": "white",
             "minorgridcolor": "white",
             "startlinecolor": "#2a3f5f"
            },
            "type": "carpet"
           }
          ],
          "choropleth": [
           {
            "colorbar": {
             "outlinewidth": 0,
             "ticks": ""
            },
            "type": "choropleth"
           }
          ],
          "contour": [
           {
            "colorbar": {
             "outlinewidth": 0,
             "ticks": ""
            },
            "colorscale": [
             [
              0,
              "#0d0887"
             ],
             [
              0.1111111111111111,
              "#46039f"
             ],
             [
              0.2222222222222222,
              "#7201a8"
             ],
             [
              0.3333333333333333,
              "#9c179e"
             ],
             [
              0.4444444444444444,
              "#bd3786"
             ],
             [
              0.5555555555555556,
              "#d8576b"
             ],
             [
              0.6666666666666666,
              "#ed7953"
             ],
             [
              0.7777777777777778,
              "#fb9f3a"
             ],
             [
              0.8888888888888888,
              "#fdca26"
             ],
             [
              1,
              "#f0f921"
             ]
            ],
            "type": "contour"
           }
          ],
          "contourcarpet": [
           {
            "colorbar": {
             "outlinewidth": 0,
             "ticks": ""
            },
            "type": "contourcarpet"
           }
          ],
          "heatmap": [
           {
            "colorbar": {
             "outlinewidth": 0,
             "ticks": ""
            },
            "colorscale": [
             [
              0,
              "#0d0887"
             ],
             [
              0.1111111111111111,
              "#46039f"
             ],
             [
              0.2222222222222222,
              "#7201a8"
             ],
             [
              0.3333333333333333,
              "#9c179e"
             ],
             [
              0.4444444444444444,
              "#bd3786"
             ],
             [
              0.5555555555555556,
              "#d8576b"
             ],
             [
              0.6666666666666666,
              "#ed7953"
             ],
             [
              0.7777777777777778,
              "#fb9f3a"
             ],
             [
              0.8888888888888888,
              "#fdca26"
             ],
             [
              1,
              "#f0f921"
             ]
            ],
            "type": "heatmap"
           }
          ],
          "heatmapgl": [
           {
            "colorbar": {
             "outlinewidth": 0,
             "ticks": ""
            },
            "colorscale": [
             [
              0,
              "#0d0887"
             ],
             [
              0.1111111111111111,
              "#46039f"
             ],
             [
              0.2222222222222222,
              "#7201a8"
             ],
             [
              0.3333333333333333,
              "#9c179e"
             ],
             [
              0.4444444444444444,
              "#bd3786"
             ],
             [
              0.5555555555555556,
              "#d8576b"
             ],
             [
              0.6666666666666666,
              "#ed7953"
             ],
             [
              0.7777777777777778,
              "#fb9f3a"
             ],
             [
              0.8888888888888888,
              "#fdca26"
             ],
             [
              1,
              "#f0f921"
             ]
            ],
            "type": "heatmapgl"
           }
          ],
          "histogram": [
           {
            "marker": {
             "pattern": {
              "fillmode": "overlay",
              "size": 10,
              "solidity": 0.2
             }
            },
            "type": "histogram"
           }
          ],
          "histogram2d": [
           {
            "colorbar": {
             "outlinewidth": 0,
             "ticks": ""
            },
            "colorscale": [
             [
              0,
              "#0d0887"
             ],
             [
              0.1111111111111111,
              "#46039f"
             ],
             [
              0.2222222222222222,
              "#7201a8"
             ],
             [
              0.3333333333333333,
              "#9c179e"
             ],
             [
              0.4444444444444444,
              "#bd3786"
             ],
             [
              0.5555555555555556,
              "#d8576b"
             ],
             [
              0.6666666666666666,
              "#ed7953"
             ],
             [
              0.7777777777777778,
              "#fb9f3a"
             ],
             [
              0.8888888888888888,
              "#fdca26"
             ],
             [
              1,
              "#f0f921"
             ]
            ],
            "type": "histogram2d"
           }
          ],
          "histogram2dcontour": [
           {
            "colorbar": {
             "outlinewidth": 0,
             "ticks": ""
            },
            "colorscale": [
             [
              0,
              "#0d0887"
             ],
             [
              0.1111111111111111,
              "#46039f"
             ],
             [
              0.2222222222222222,
              "#7201a8"
             ],
             [
              0.3333333333333333,
              "#9c179e"
             ],
             [
              0.4444444444444444,
              "#bd3786"
             ],
             [
              0.5555555555555556,
              "#d8576b"
             ],
             [
              0.6666666666666666,
              "#ed7953"
             ],
             [
              0.7777777777777778,
              "#fb9f3a"
             ],
             [
              0.8888888888888888,
              "#fdca26"
             ],
             [
              1,
              "#f0f921"
             ]
            ],
            "type": "histogram2dcontour"
           }
          ],
          "mesh3d": [
           {
            "colorbar": {
             "outlinewidth": 0,
             "ticks": ""
            },
            "type": "mesh3d"
           }
          ],
          "parcoords": [
           {
            "line": {
             "colorbar": {
              "outlinewidth": 0,
              "ticks": ""
             }
            },
            "type": "parcoords"
           }
          ],
          "pie": [
           {
            "automargin": true,
            "type": "pie"
           }
          ],
          "scatter": [
           {
            "fillpattern": {
             "fillmode": "overlay",
             "size": 10,
             "solidity": 0.2
            },
            "type": "scatter"
           }
          ],
          "scatter3d": [
           {
            "line": {
             "colorbar": {
              "outlinewidth": 0,
              "ticks": ""
             }
            },
            "marker": {
             "colorbar": {
              "outlinewidth": 0,
              "ticks": ""
             }
            },
            "type": "scatter3d"
           }
          ],
          "scattercarpet": [
           {
            "marker": {
             "colorbar": {
              "outlinewidth": 0,
              "ticks": ""
             }
            },
            "type": "scattercarpet"
           }
          ],
          "scattergeo": [
           {
            "marker": {
             "colorbar": {
              "outlinewidth": 0,
              "ticks": ""
             }
            },
            "type": "scattergeo"
           }
          ],
          "scattergl": [
           {
            "marker": {
             "colorbar": {
              "outlinewidth": 0,
              "ticks": ""
             }
            },
            "type": "scattergl"
           }
          ],
          "scattermapbox": [
           {
            "marker": {
             "colorbar": {
              "outlinewidth": 0,
              "ticks": ""
             }
            },
            "type": "scattermapbox"
           }
          ],
          "scatterpolar": [
           {
            "marker": {
             "colorbar": {
              "outlinewidth": 0,
              "ticks": ""
             }
            },
            "type": "scatterpolar"
           }
          ],
          "scatterpolargl": [
           {
            "marker": {
             "colorbar": {
              "outlinewidth": 0,
              "ticks": ""
             }
            },
            "type": "scatterpolargl"
           }
          ],
          "scatterternary": [
           {
            "marker": {
             "colorbar": {
              "outlinewidth": 0,
              "ticks": ""
             }
            },
            "type": "scatterternary"
           }
          ],
          "surface": [
           {
            "colorbar": {
             "outlinewidth": 0,
             "ticks": ""
            },
            "colorscale": [
             [
              0,
              "#0d0887"
             ],
             [
              0.1111111111111111,
              "#46039f"
             ],
             [
              0.2222222222222222,
              "#7201a8"
             ],
             [
              0.3333333333333333,
              "#9c179e"
             ],
             [
              0.4444444444444444,
              "#bd3786"
             ],
             [
              0.5555555555555556,
              "#d8576b"
             ],
             [
              0.6666666666666666,
              "#ed7953"
             ],
             [
              0.7777777777777778,
              "#fb9f3a"
             ],
             [
              0.8888888888888888,
              "#fdca26"
             ],
             [
              1,
              "#f0f921"
             ]
            ],
            "type": "surface"
           }
          ],
          "table": [
           {
            "cells": {
             "fill": {
              "color": "#EBF0F8"
             },
             "line": {
              "color": "white"
             }
            },
            "header": {
             "fill": {
              "color": "#C8D4E3"
             },
             "line": {
              "color": "white"
             }
            },
            "type": "table"
           }
          ]
         },
         "layout": {
          "annotationdefaults": {
           "arrowcolor": "#2a3f5f",
           "arrowhead": 0,
           "arrowwidth": 1
          },
          "autotypenumbers": "strict",
          "coloraxis": {
           "colorbar": {
            "outlinewidth": 0,
            "ticks": ""
           }
          },
          "colorscale": {
           "diverging": [
            [
             0,
             "#8e0152"
            ],
            [
             0.1,
             "#c51b7d"
            ],
            [
             0.2,
             "#de77ae"
            ],
            [
             0.3,
             "#f1b6da"
            ],
            [
             0.4,
             "#fde0ef"
            ],
            [
             0.5,
             "#f7f7f7"
            ],
            [
             0.6,
             "#e6f5d0"
            ],
            [
             0.7,
             "#b8e186"
            ],
            [
             0.8,
             "#7fbc41"
            ],
            [
             0.9,
             "#4d9221"
            ],
            [
             1,
             "#276419"
            ]
           ],
           "sequential": [
            [
             0,
             "#0d0887"
            ],
            [
             0.1111111111111111,
             "#46039f"
            ],
            [
             0.2222222222222222,
             "#7201a8"
            ],
            [
             0.3333333333333333,
             "#9c179e"
            ],
            [
             0.4444444444444444,
             "#bd3786"
            ],
            [
             0.5555555555555556,
             "#d8576b"
            ],
            [
             0.6666666666666666,
             "#ed7953"
            ],
            [
             0.7777777777777778,
             "#fb9f3a"
            ],
            [
             0.8888888888888888,
             "#fdca26"
            ],
            [
             1,
             "#f0f921"
            ]
           ],
           "sequentialminus": [
            [
             0,
             "#0d0887"
            ],
            [
             0.1111111111111111,
             "#46039f"
            ],
            [
             0.2222222222222222,
             "#7201a8"
            ],
            [
             0.3333333333333333,
             "#9c179e"
            ],
            [
             0.4444444444444444,
             "#bd3786"
            ],
            [
             0.5555555555555556,
             "#d8576b"
            ],
            [
             0.6666666666666666,
             "#ed7953"
            ],
            [
             0.7777777777777778,
             "#fb9f3a"
            ],
            [
             0.8888888888888888,
             "#fdca26"
            ],
            [
             1,
             "#f0f921"
            ]
           ]
          },
          "colorway": [
           "#636efa",
           "#EF553B",
           "#00cc96",
           "#ab63fa",
           "#FFA15A",
           "#19d3f3",
           "#FF6692",
           "#B6E880",
           "#FF97FF",
           "#FECB52"
          ],
          "font": {
           "color": "#2a3f5f"
          },
          "geo": {
           "bgcolor": "white",
           "lakecolor": "white",
           "landcolor": "#E5ECF6",
           "showlakes": true,
           "showland": true,
           "subunitcolor": "white"
          },
          "hoverlabel": {
           "align": "left"
          },
          "hovermode": "closest",
          "mapbox": {
           "style": "light"
          },
          "paper_bgcolor": "white",
          "plot_bgcolor": "#E5ECF6",
          "polar": {
           "angularaxis": {
            "gridcolor": "white",
            "linecolor": "white",
            "ticks": ""
           },
           "bgcolor": "#E5ECF6",
           "radialaxis": {
            "gridcolor": "white",
            "linecolor": "white",
            "ticks": ""
           }
          },
          "scene": {
           "xaxis": {
            "backgroundcolor": "#E5ECF6",
            "gridcolor": "white",
            "gridwidth": 2,
            "linecolor": "white",
            "showbackground": true,
            "ticks": "",
            "zerolinecolor": "white"
           },
           "yaxis": {
            "backgroundcolor": "#E5ECF6",
            "gridcolor": "white",
            "gridwidth": 2,
            "linecolor": "white",
            "showbackground": true,
            "ticks": "",
            "zerolinecolor": "white"
           },
           "zaxis": {
            "backgroundcolor": "#E5ECF6",
            "gridcolor": "white",
            "gridwidth": 2,
            "linecolor": "white",
            "showbackground": true,
            "ticks": "",
            "zerolinecolor": "white"
           }
          },
          "shapedefaults": {
           "line": {
            "color": "#2a3f5f"
           }
          },
          "ternary": {
           "aaxis": {
            "gridcolor": "white",
            "linecolor": "white",
            "ticks": ""
           },
           "baxis": {
            "gridcolor": "white",
            "linecolor": "white",
            "ticks": ""
           },
           "bgcolor": "#E5ECF6",
           "caxis": {
            "gridcolor": "white",
            "linecolor": "white",
            "ticks": ""
           }
          },
          "title": {
           "x": 0.05
          },
          "xaxis": {
           "automargin": true,
           "gridcolor": "white",
           "linecolor": "white",
           "ticks": "",
           "title": {
            "standoff": 15
           },
           "zerolinecolor": "white",
           "zerolinewidth": 2
          },
          "yaxis": {
           "automargin": true,
           "gridcolor": "white",
           "linecolor": "white",
           "ticks": "",
           "title": {
            "standoff": 15
           },
           "zerolinecolor": "white",
           "zerolinewidth": 2
          }
         }
        },
        "title": {
         "text": "Optimised Model Evaluation"
        },
        "updatemenus": [
         {
          "buttons": [
           {
            "args": [
             {
              "hovertemplate": "Accuracy: %{y:.2f}<br>Precision: %{text[0]}<br>Recall: %{text[1]}<br>F1 Score: %{text[2]}<br>Best Parameters: %{text[3]}",
              "text": [
               "{'solver': 'liblinear', 'penalty': 'l2', 'C': 10}",
               "{'n_estimators': 200, 'min_samples_split': 5, 'min_samples_leaf': 1, 'max_depth': None}",
               "{'alpha': 0.1}",
               "{'kernel': 'rbf', 'gamma': 'scale', 'C': 10}"
              ],
              "x": [
               [
                "Logistic Regression",
                "Random Forest",
                "Multinomial Naive Bayes",
                "SVM"
               ],
               [
                "Logistic Regression",
                "Random Forest",
                "Multinomial Naive Bayes",
                "SVM"
               ],
               [
                "Logistic Regression",
                "Random Forest",
                "Multinomial Naive Bayes",
                "SVM"
               ],
               [
                "Logistic Regression",
                "Random Forest",
                "Multinomial Naive Bayes",
                "SVM"
               ]
              ],
              "y": [
               [
                0.99,
                1,
                0.94,
                0.99
               ],
               [
                0.99,
                1,
                0.95,
                1
               ],
               [
                0.99,
                1,
                0.94,
                0.99
               ],
               [
                0.99,
                1,
                0.94,
                0.99
               ]
              ]
             }
            ],
            "label": "Bag of Words",
            "method": "update"
           },
           {
            "args": [
             {
              "hovertemplate": "Accuracy: %{y:.2f}<br>Precision: %{text[0]}<br>Recall: %{text[1]}<br>F1 Score: %{text[2]}<br>Best Parameters: %{text[3]}",
              "text": [
               "{'solver': 'saga', 'penalty': 'l1', 'C': 100}",
               "{'n_estimators': 200, 'min_samples_split': 5, 'min_samples_leaf': 1, 'max_depth': 40}",
               "{'alpha': 0.1}",
               "{'kernel': 'linear', 'gamma': 'auto', 'C': 10}"
              ],
              "x": [
               [
                "Logistic Regression",
                "Random Forest",
                "Multinomial Naive Bayes",
                "SVM"
               ],
               [
                "Logistic Regression",
                "Random Forest",
                "Multinomial Naive Bayes",
                "SVM"
               ],
               [
                "Logistic Regression",
                "Random Forest",
                "Multinomial Naive Bayes",
                "SVM"
               ],
               [
                "Logistic Regression",
                "Random Forest",
                "Multinomial Naive Bayes",
                "SVM"
               ]
              ],
              "y": [
               [
                0.99,
                1,
                0.93,
                0.99
               ],
               [
                0.99,
                1,
                0.94,
                0.99
               ],
               [
                0.99,
                1,
                0.92,
                0.99
               ],
               [
                0.99,
                1,
                0.93,
                0.99
               ]
              ]
             }
            ],
            "label": "TF-IDF",
            "method": "update"
           },
           {
            "args": [
             {
              "hovertemplate": "Accuracy: %{y:.2f}<br>Precision: %{text[0]}<br>Recall: %{text[1]}<br>F1 Score: %{text[2]}<br>Best Parameters: %{text[3]}",
              "text": [
               "{'solver': 'liblinear', 'penalty': 'l2', 'C': 10}",
               "{'n_estimators': 200, 'min_samples_split': 5, 'min_samples_leaf': 1, 'max_depth': None}",
               "{'kernel': 'rbf', 'gamma': 'auto', 'C': 100}"
              ],
              "x": [
               [
                "Logistic Regression",
                "Random Forest",
                "SVM"
               ],
               [
                "Logistic Regression",
                "Random Forest",
                "SVM"
               ],
               [
                "Logistic Regression",
                "Random Forest",
                "SVM"
               ],
               [
                "Logistic Regression",
                "Random Forest",
                "SVM"
               ]
              ],
              "y": [
               [
                0.94,
                0.95,
                0.94
               ],
               [
                0.93,
                0.95,
                0.93
               ],
               [
                0.94,
                0.93,
                0.94
               ],
               [
                0.93,
                0.94,
                0.94
               ]
              ]
             }
            ],
            "label": "GloVe",
            "method": "update"
           }
          ],
          "direction": "down",
          "pad": {
           "r": 10,
           "t": 10
          },
          "showactive": true,
          "x": 0.1,
          "xanchor": "left",
          "y": 1.1,
          "yanchor": "top"
         }
        ],
        "xaxis": {
         "title": {
          "text": "Model"
         }
        },
        "yaxis": {
         "title": {
          "text": "Score"
         }
        }
       }
      },
      "text/html": [
       "<div>                            <div id=\"3ec7dfa8-67e1-46ab-ac70-7f72403fd01f\" class=\"plotly-graph-div\" style=\"height:525px; width:100%;\"></div>            <script type=\"text/javascript\">                require([\"plotly\"], function(Plotly) {                    window.PLOTLYENV=window.PLOTLYENV || {};                                    if (document.getElementById(\"3ec7dfa8-67e1-46ab-ac70-7f72403fd01f\")) {                    Plotly.newPlot(                        \"3ec7dfa8-67e1-46ab-ac70-7f72403fd01f\",                        [{\"marker\":{\"color\":\"rgb(102, 153, 255)\"},\"name\":\"Accuracy\",\"x\":[\"Logistic Regression\",\"Random Forest\",\"Multinomial Naive Bayes\",\"SVM\"],\"y\":[0.99,1.0,0.94,0.99],\"type\":\"bar\"},{\"marker\":{\"color\":\"rgb(255, 102, 102)\"},\"name\":\"Precision\",\"x\":[\"Logistic Regression\",\"Random Forest\",\"Multinomial Naive Bayes\",\"SVM\"],\"y\":[0.99,1.0,0.95,1.0],\"type\":\"bar\"},{\"marker\":{\"color\":\"rgb(102, 255, 178)\"},\"name\":\"Recall\",\"x\":[\"Logistic Regression\",\"Random Forest\",\"Multinomial Naive Bayes\",\"SVM\"],\"y\":[0.99,1.0,0.94,0.99],\"type\":\"bar\"},{\"marker\":{\"color\":\"rgb(255, 178, 102)\"},\"name\":\"F1 Score\",\"x\":[\"Logistic Regression\",\"Random Forest\",\"Multinomial Naive Bayes\",\"SVM\"],\"y\":[0.99,1.0,0.94,0.99],\"type\":\"bar\"}],                        {\"template\":{\"data\":{\"histogram2dcontour\":[{\"type\":\"histogram2dcontour\",\"colorbar\":{\"outlinewidth\":0,\"ticks\":\"\"},\"colorscale\":[[0.0,\"#0d0887\"],[0.1111111111111111,\"#46039f\"],[0.2222222222222222,\"#7201a8\"],[0.3333333333333333,\"#9c179e\"],[0.4444444444444444,\"#bd3786\"],[0.5555555555555556,\"#d8576b\"],[0.6666666666666666,\"#ed7953\"],[0.7777777777777778,\"#fb9f3a\"],[0.8888888888888888,\"#fdca26\"],[1.0,\"#f0f921\"]]}],\"choropleth\":[{\"type\":\"choropleth\",\"colorbar\":{\"outlinewidth\":0,\"ticks\":\"\"}}],\"histogram2d\":[{\"type\":\"histogram2d\",\"colorbar\":{\"outlinewidth\":0,\"ticks\":\"\"},\"colorscale\":[[0.0,\"#0d0887\"],[0.1111111111111111,\"#46039f\"],[0.2222222222222222,\"#7201a8\"],[0.3333333333333333,\"#9c179e\"],[0.4444444444444444,\"#bd3786\"],[0.5555555555555556,\"#d8576b\"],[0.6666666666666666,\"#ed7953\"],[0.7777777777777778,\"#fb9f3a\"],[0.8888888888888888,\"#fdca26\"],[1.0,\"#f0f921\"]]}],\"heatmap\":[{\"type\":\"heatmap\",\"colorbar\":{\"outlinewidth\":0,\"ticks\":\"\"},\"colorscale\":[[0.0,\"#0d0887\"],[0.1111111111111111,\"#46039f\"],[0.2222222222222222,\"#7201a8\"],[0.3333333333333333,\"#9c179e\"],[0.4444444444444444,\"#bd3786\"],[0.5555555555555556,\"#d8576b\"],[0.6666666666666666,\"#ed7953\"],[0.7777777777777778,\"#fb9f3a\"],[0.8888888888888888,\"#fdca26\"],[1.0,\"#f0f921\"]]}],\"heatmapgl\":[{\"type\":\"heatmapgl\",\"colorbar\":{\"outlinewidth\":0,\"ticks\":\"\"},\"colorscale\":[[0.0,\"#0d0887\"],[0.1111111111111111,\"#46039f\"],[0.2222222222222222,\"#7201a8\"],[0.3333333333333333,\"#9c179e\"],[0.4444444444444444,\"#bd3786\"],[0.5555555555555556,\"#d8576b\"],[0.6666666666666666,\"#ed7953\"],[0.7777777777777778,\"#fb9f3a\"],[0.8888888888888888,\"#fdca26\"],[1.0,\"#f0f921\"]]}],\"contourcarpet\":[{\"type\":\"contourcarpet\",\"colorbar\":{\"outlinewidth\":0,\"ticks\":\"\"}}],\"contour\":[{\"type\":\"contour\",\"colorbar\":{\"outlinewidth\":0,\"ticks\":\"\"},\"colorscale\":[[0.0,\"#0d0887\"],[0.1111111111111111,\"#46039f\"],[0.2222222222222222,\"#7201a8\"],[0.3333333333333333,\"#9c179e\"],[0.4444444444444444,\"#bd3786\"],[0.5555555555555556,\"#d8576b\"],[0.6666666666666666,\"#ed7953\"],[0.7777777777777778,\"#fb9f3a\"],[0.8888888888888888,\"#fdca26\"],[1.0,\"#f0f921\"]]}],\"surface\":[{\"type\":\"surface\",\"colorbar\":{\"outlinewidth\":0,\"ticks\":\"\"},\"colorscale\":[[0.0,\"#0d0887\"],[0.1111111111111111,\"#46039f\"],[0.2222222222222222,\"#7201a8\"],[0.3333333333333333,\"#9c179e\"],[0.4444444444444444,\"#bd3786\"],[0.5555555555555556,\"#d8576b\"],[0.6666666666666666,\"#ed7953\"],[0.7777777777777778,\"#fb9f3a\"],[0.8888888888888888,\"#fdca26\"],[1.0,\"#f0f921\"]]}],\"mesh3d\":[{\"type\":\"mesh3d\",\"colorbar\":{\"outlinewidth\":0,\"ticks\":\"\"}}],\"scatter\":[{\"fillpattern\":{\"fillmode\":\"overlay\",\"size\":10,\"solidity\":0.2},\"type\":\"scatter\"}],\"parcoords\":[{\"type\":\"parcoords\",\"line\":{\"colorbar\":{\"outlinewidth\":0,\"ticks\":\"\"}}}],\"scatterpolargl\":[{\"type\":\"scatterpolargl\",\"marker\":{\"colorbar\":{\"outlinewidth\":0,\"ticks\":\"\"}}}],\"bar\":[{\"error_x\":{\"color\":\"#2a3f5f\"},\"error_y\":{\"color\":\"#2a3f5f\"},\"marker\":{\"line\":{\"color\":\"#E5ECF6\",\"width\":0.5},\"pattern\":{\"fillmode\":\"overlay\",\"size\":10,\"solidity\":0.2}},\"type\":\"bar\"}],\"scattergeo\":[{\"type\":\"scattergeo\",\"marker\":{\"colorbar\":{\"outlinewidth\":0,\"ticks\":\"\"}}}],\"scatterpolar\":[{\"type\":\"scatterpolar\",\"marker\":{\"colorbar\":{\"outlinewidth\":0,\"ticks\":\"\"}}}],\"histogram\":[{\"marker\":{\"pattern\":{\"fillmode\":\"overlay\",\"size\":10,\"solidity\":0.2}},\"type\":\"histogram\"}],\"scattergl\":[{\"type\":\"scattergl\",\"marker\":{\"colorbar\":{\"outlinewidth\":0,\"ticks\":\"\"}}}],\"scatter3d\":[{\"type\":\"scatter3d\",\"line\":{\"colorbar\":{\"outlinewidth\":0,\"ticks\":\"\"}},\"marker\":{\"colorbar\":{\"outlinewidth\":0,\"ticks\":\"\"}}}],\"scattermapbox\":[{\"type\":\"scattermapbox\",\"marker\":{\"colorbar\":{\"outlinewidth\":0,\"ticks\":\"\"}}}],\"scatterternary\":[{\"type\":\"scatterternary\",\"marker\":{\"colorbar\":{\"outlinewidth\":0,\"ticks\":\"\"}}}],\"scattercarpet\":[{\"type\":\"scattercarpet\",\"marker\":{\"colorbar\":{\"outlinewidth\":0,\"ticks\":\"\"}}}],\"carpet\":[{\"aaxis\":{\"endlinecolor\":\"#2a3f5f\",\"gridcolor\":\"white\",\"linecolor\":\"white\",\"minorgridcolor\":\"white\",\"startlinecolor\":\"#2a3f5f\"},\"baxis\":{\"endlinecolor\":\"#2a3f5f\",\"gridcolor\":\"white\",\"linecolor\":\"white\",\"minorgridcolor\":\"white\",\"startlinecolor\":\"#2a3f5f\"},\"type\":\"carpet\"}],\"table\":[{\"cells\":{\"fill\":{\"color\":\"#EBF0F8\"},\"line\":{\"color\":\"white\"}},\"header\":{\"fill\":{\"color\":\"#C8D4E3\"},\"line\":{\"color\":\"white\"}},\"type\":\"table\"}],\"barpolar\":[{\"marker\":{\"line\":{\"color\":\"#E5ECF6\",\"width\":0.5},\"pattern\":{\"fillmode\":\"overlay\",\"size\":10,\"solidity\":0.2}},\"type\":\"barpolar\"}],\"pie\":[{\"automargin\":true,\"type\":\"pie\"}]},\"layout\":{\"autotypenumbers\":\"strict\",\"colorway\":[\"#636efa\",\"#EF553B\",\"#00cc96\",\"#ab63fa\",\"#FFA15A\",\"#19d3f3\",\"#FF6692\",\"#B6E880\",\"#FF97FF\",\"#FECB52\"],\"font\":{\"color\":\"#2a3f5f\"},\"hovermode\":\"closest\",\"hoverlabel\":{\"align\":\"left\"},\"paper_bgcolor\":\"white\",\"plot_bgcolor\":\"#E5ECF6\",\"polar\":{\"bgcolor\":\"#E5ECF6\",\"angularaxis\":{\"gridcolor\":\"white\",\"linecolor\":\"white\",\"ticks\":\"\"},\"radialaxis\":{\"gridcolor\":\"white\",\"linecolor\":\"white\",\"ticks\":\"\"}},\"ternary\":{\"bgcolor\":\"#E5ECF6\",\"aaxis\":{\"gridcolor\":\"white\",\"linecolor\":\"white\",\"ticks\":\"\"},\"baxis\":{\"gridcolor\":\"white\",\"linecolor\":\"white\",\"ticks\":\"\"},\"caxis\":{\"gridcolor\":\"white\",\"linecolor\":\"white\",\"ticks\":\"\"}},\"coloraxis\":{\"colorbar\":{\"outlinewidth\":0,\"ticks\":\"\"}},\"colorscale\":{\"sequential\":[[0.0,\"#0d0887\"],[0.1111111111111111,\"#46039f\"],[0.2222222222222222,\"#7201a8\"],[0.3333333333333333,\"#9c179e\"],[0.4444444444444444,\"#bd3786\"],[0.5555555555555556,\"#d8576b\"],[0.6666666666666666,\"#ed7953\"],[0.7777777777777778,\"#fb9f3a\"],[0.8888888888888888,\"#fdca26\"],[1.0,\"#f0f921\"]],\"sequentialminus\":[[0.0,\"#0d0887\"],[0.1111111111111111,\"#46039f\"],[0.2222222222222222,\"#7201a8\"],[0.3333333333333333,\"#9c179e\"],[0.4444444444444444,\"#bd3786\"],[0.5555555555555556,\"#d8576b\"],[0.6666666666666666,\"#ed7953\"],[0.7777777777777778,\"#fb9f3a\"],[0.8888888888888888,\"#fdca26\"],[1.0,\"#f0f921\"]],\"diverging\":[[0,\"#8e0152\"],[0.1,\"#c51b7d\"],[0.2,\"#de77ae\"],[0.3,\"#f1b6da\"],[0.4,\"#fde0ef\"],[0.5,\"#f7f7f7\"],[0.6,\"#e6f5d0\"],[0.7,\"#b8e186\"],[0.8,\"#7fbc41\"],[0.9,\"#4d9221\"],[1,\"#276419\"]]},\"xaxis\":{\"gridcolor\":\"white\",\"linecolor\":\"white\",\"ticks\":\"\",\"title\":{\"standoff\":15},\"zerolinecolor\":\"white\",\"automargin\":true,\"zerolinewidth\":2},\"yaxis\":{\"gridcolor\":\"white\",\"linecolor\":\"white\",\"ticks\":\"\",\"title\":{\"standoff\":15},\"zerolinecolor\":\"white\",\"automargin\":true,\"zerolinewidth\":2},\"scene\":{\"xaxis\":{\"backgroundcolor\":\"#E5ECF6\",\"gridcolor\":\"white\",\"linecolor\":\"white\",\"showbackground\":true,\"ticks\":\"\",\"zerolinecolor\":\"white\",\"gridwidth\":2},\"yaxis\":{\"backgroundcolor\":\"#E5ECF6\",\"gridcolor\":\"white\",\"linecolor\":\"white\",\"showbackground\":true,\"ticks\":\"\",\"zerolinecolor\":\"white\",\"gridwidth\":2},\"zaxis\":{\"backgroundcolor\":\"#E5ECF6\",\"gridcolor\":\"white\",\"linecolor\":\"white\",\"showbackground\":true,\"ticks\":\"\",\"zerolinecolor\":\"white\",\"gridwidth\":2}},\"shapedefaults\":{\"line\":{\"color\":\"#2a3f5f\"}},\"annotationdefaults\":{\"arrowcolor\":\"#2a3f5f\",\"arrowhead\":0,\"arrowwidth\":1},\"geo\":{\"bgcolor\":\"white\",\"landcolor\":\"#E5ECF6\",\"subunitcolor\":\"white\",\"showland\":true,\"showlakes\":true,\"lakecolor\":\"white\"},\"title\":{\"x\":0.05},\"mapbox\":{\"style\":\"light\"}}},\"title\":{\"text\":\"Optimised Model Evaluation\"},\"xaxis\":{\"title\":{\"text\":\"Model\"}},\"yaxis\":{\"title\":{\"text\":\"Score\"}},\"barmode\":\"group\",\"bargap\":0.15,\"bargroupgap\":0.1,\"updatemenus\":[{\"buttons\":[{\"args\":[{\"y\":[[0.99,1.0,0.94,0.99],[0.99,1.0,0.95,1.0],[0.99,1.0,0.94,0.99],[0.99,1.0,0.94,0.99]],\"x\":[[\"Logistic Regression\",\"Random Forest\",\"Multinomial Naive Bayes\",\"SVM\"],[\"Logistic Regression\",\"Random Forest\",\"Multinomial Naive Bayes\",\"SVM\"],[\"Logistic Regression\",\"Random Forest\",\"Multinomial Naive Bayes\",\"SVM\"],[\"Logistic Regression\",\"Random Forest\",\"Multinomial Naive Bayes\",\"SVM\"]],\"text\":[\"{'solver': 'liblinear', 'penalty': 'l2', 'C': 10}\",\"{'n_estimators': 200, 'min_samples_split': 5, 'min_samples_leaf': 1, 'max_depth': None}\",\"{'alpha': 0.1}\",\"{'kernel': 'rbf', 'gamma': 'scale', 'C': 10}\"],\"hovertemplate\":\"Accuracy: %{y:.2f}<br>Precision: %{text[0]}<br>Recall: %{text[1]}<br>F1 Score: %{text[2]}<br>Best Parameters: %{text[3]}\"}],\"label\":\"Bag of Words\",\"method\":\"update\"},{\"args\":[{\"y\":[[0.99,1.0,0.93,0.99],[0.99,1.0,0.94,0.99],[0.99,1.0,0.92,0.99],[0.99,1.0,0.93,0.99]],\"x\":[[\"Logistic Regression\",\"Random Forest\",\"Multinomial Naive Bayes\",\"SVM\"],[\"Logistic Regression\",\"Random Forest\",\"Multinomial Naive Bayes\",\"SVM\"],[\"Logistic Regression\",\"Random Forest\",\"Multinomial Naive Bayes\",\"SVM\"],[\"Logistic Regression\",\"Random Forest\",\"Multinomial Naive Bayes\",\"SVM\"]],\"text\":[\"{'solver': 'saga', 'penalty': 'l1', 'C': 100}\",\"{'n_estimators': 200, 'min_samples_split': 5, 'min_samples_leaf': 1, 'max_depth': 40}\",\"{'alpha': 0.1}\",\"{'kernel': 'linear', 'gamma': 'auto', 'C': 10}\"],\"hovertemplate\":\"Accuracy: %{y:.2f}<br>Precision: %{text[0]}<br>Recall: %{text[1]}<br>F1 Score: %{text[2]}<br>Best Parameters: %{text[3]}\"}],\"label\":\"TF-IDF\",\"method\":\"update\"},{\"args\":[{\"y\":[[0.94,0.95,0.94],[0.93,0.95,0.93],[0.94,0.93,0.94],[0.93,0.94,0.94]],\"x\":[[\"Logistic Regression\",\"Random Forest\",\"SVM\"],[\"Logistic Regression\",\"Random Forest\",\"SVM\"],[\"Logistic Regression\",\"Random Forest\",\"SVM\"],[\"Logistic Regression\",\"Random Forest\",\"SVM\"]],\"text\":[\"{'solver': 'liblinear', 'penalty': 'l2', 'C': 10}\",\"{'n_estimators': 200, 'min_samples_split': 5, 'min_samples_leaf': 1, 'max_depth': None}\",\"{'kernel': 'rbf', 'gamma': 'auto', 'C': 100}\"],\"hovertemplate\":\"Accuracy: %{y:.2f}<br>Precision: %{text[0]}<br>Recall: %{text[1]}<br>F1 Score: %{text[2]}<br>Best Parameters: %{text[3]}\"}],\"label\":\"GloVe\",\"method\":\"update\"}],\"direction\":\"down\",\"pad\":{\"r\":10,\"t\":10},\"showactive\":true,\"x\":0.1,\"xanchor\":\"left\",\"y\":1.1,\"yanchor\":\"top\"}]},                        {\"responsive\": true}                    ).then(function(){\n",
       "                            \n",
       "var gd = document.getElementById('3ec7dfa8-67e1-46ab-ac70-7f72403fd01f');\n",
       "var x = new MutationObserver(function (mutations, observer) {{\n",
       "        var display = window.getComputedStyle(gd).display;\n",
       "        if (!display || display === 'none') {{\n",
       "            console.log([gd, 'removed!']);\n",
       "            Plotly.purge(gd);\n",
       "            observer.disconnect();\n",
       "        }}\n",
       "}});\n",
       "\n",
       "// Listen for the removal of the full notebook cells\n",
       "var notebookContainer = gd.closest('#notebook-container');\n",
       "if (notebookContainer) {{\n",
       "    x.observe(notebookContainer, {childList: true});\n",
       "}}\n",
       "\n",
       "// Listen for the clearing of the current output cell\n",
       "var outputEl = gd.closest('.output');\n",
       "if (outputEl) {{\n",
       "    x.observe(outputEl, {childList: true});\n",
       "}}\n",
       "\n",
       "                        })                };                });            </script>        </div>"
      ]
     },
     "metadata": {},
     "output_type": "display_data"
    }
   ],
   "source": [
    "import plotly.graph_objects as go\n",
    "\n",
    "# Create the data\n",
    "bow_models = ['Logistic Regression', 'Random Forest', 'Multinomial Naive Bayes', 'SVM']\n",
    "bow_acc = [0.99, 1.00, 0.94, 0.99]\n",
    "bow_prec = [0.99, 1.00, 0.95, 1.00]\n",
    "bow_rec = [0.99, 1.00, 0.94, 0.99]\n",
    "bow_f1 = [0.99, 1.00, 0.94, 0.99]\n",
    "bow_best_params = [\n",
    "    \"{'solver': 'liblinear', 'penalty': 'l2', 'C': 10}\",\n",
    "    \"{'n_estimators': 200, 'min_samples_split': 5, 'min_samples_leaf': 1, 'max_depth': None}\",\n",
    "    \"{'alpha': 0.1}\",\n",
    "    \"{'kernel': 'rbf', 'gamma': 'scale', 'C': 10}\"\n",
    "]\n",
    "\n",
    "tfidf_models = ['Logistic Regression', 'Random Forest', 'Multinomial Naive Bayes', 'SVM']\n",
    "tfidf_acc = [0.99, 1.00, 0.93, 0.99]\n",
    "tfidf_prec = [0.99, 1.00, 0.94, 0.99]\n",
    "tfidf_rec = [0.99, 1.00, 0.92, 0.99]\n",
    "tfidf_f1 = [0.99, 1.00, 0.93, 0.99]\n",
    "tfidf_best_params = [\n",
    "    \"{'solver': 'saga', 'penalty': 'l1', 'C': 100}\",\n",
    "    \"{'n_estimators': 200, 'min_samples_split': 5, 'min_samples_leaf': 1, 'max_depth': 40}\",\n",
    "    \"{'alpha': 0.1}\",\n",
    "    \"{'kernel': 'linear', 'gamma': 'auto', 'C': 10}\"\n",
    "]\n",
    "\n",
    "glove_models = ['Logistic Regression', 'Random Forest', 'SVM']\n",
    "glove_acc = [0.94, 0.95, 0.94]\n",
    "glove_prec = [0.93, 0.95, 0.93]\n",
    "glove_rec = [0.94, 0.93, 0.94]\n",
    "glove_f1 = [0.93, 0.94, 0.94]\n",
    "glove_best_params = [\n",
    "    \"{'solver': 'liblinear', 'penalty': 'l2', 'C': 10}\",\n",
    "    \"{'n_estimators': 200, 'min_samples_split': 5, 'min_samples_leaf': 1, 'max_depth': None}\",\n",
    "    \"{'kernel': 'rbf', 'gamma': 'auto', 'C': 100}\"\n",
    "]\n",
    "\n",
    "# Create the bar plots\n",
    "fig = go.Figure()\n",
    "fig.add_trace(go.Bar(x=bow_models, y=bow_acc, name='Accuracy', marker_color='rgb(102, 153, 255)'))\n",
    "fig.add_trace(go.Bar(x=bow_models, y=bow_prec, name='Precision', marker_color='rgb(255, 102, 102)'))\n",
    "fig.add_trace(go.Bar(x=bow_models, y=bow_rec, name='Recall', marker_color='rgb(102, 255, 178)'))\n",
    "fig.add_trace(go.Bar(x=bow_models, y=bow_f1, name='F1 Score', marker_color='rgb(255, 178, 102)'))\n",
    "\n",
    "# Update the layout\n",
    "fig.update_layout(\n",
    "    title='Optimised Model Evaluation',\n",
    "    xaxis=dict(title='Model'),\n",
    "    yaxis=dict(title='Score'),\n",
    "    barmode='group',\n",
    "    bargap=0.15,\n",
    "    bargroupgap=0.1,\n",
    ")\n",
    "\n",
    "# Add the dropdown menu\n",
    "fig.update_layout(\n",
    "    updatemenus=[\n",
    "        dict(\n",
    "            buttons=list([\n",
    "                dict(\n",
    "                    args=[{\n",
    "                        'y': [bow_acc, bow_prec, bow_rec, bow_f1],\n",
    "                        'x': [bow_models] * 4,\n",
    "                        'text': bow_best_params,\n",
    "                        'hovertemplate': 'Accuracy: %{y:.2f}<br>Precision: %{text[0]}<br>Recall: %{text[1]}<br>F1 Score: %{text[2]}<br>Best Parameters: %{text[3]}'\n",
    "                    }],\n",
    "                    label='Bag of Words',\n",
    "                    method='update'\n",
    "                ),\n",
    "                dict(\n",
    "                    args=[{\n",
    "                        'y': [tfidf_acc, tfidf_prec, tfidf_rec, tfidf_f1],\n",
    "                        'x': [tfidf_models] * 4,\n",
    "                        'text': tfidf_best_params,\n",
    "                        'hovertemplate': 'Accuracy: %{y:.2f}<br>Precision: %{text[0]}<br>Recall: %{text[1]}<br>F1 Score: %{text[2]}<br>Best Parameters: %{text[3]}'\n",
    "                    }],\n",
    "                    label='TF-IDF',\n",
    "                    method='update'\n",
    "                ),\n",
    "                dict(\n",
    "                    args=[{\n",
    "                        'y': [glove_acc, glove_prec, glove_rec, glove_f1],\n",
    "                        'x': [glove_models] * 4,\n",
    "                        'text': glove_best_params,\n",
    "                        'hovertemplate': 'Accuracy: %{y:.2f}<br>Precision: %{text[0]}<br>Recall: %{text[1]}<br>F1 Score: %{text[2]}<br>Best Parameters: %{text[3]}'\n",
    "                    }],\n",
    "                    label='GloVe',\n",
    "                    method='update'\n",
    "                )\n",
    "            ]),\n",
    "            direction='down',\n",
    "            pad={'r': 10, 't': 10},\n",
    "            showactive=True,\n",
    "            x=0.1,\n",
    "            xanchor='left',\n",
    "            y=1.1,\n",
    "            yanchor='top'\n",
    "        ),\n",
    "    ]\n",
    ")\n",
    "\n",
    "fig.show()\n"
   ]
  },
  {
   "cell_type": "markdown",
   "id": "8d184272",
   "metadata": {},
   "source": [
    "## Analysis of the results:\n",
    "### Bag of Words:\n",
    "1) Optimized Logistic Regression: Achieved an accuracy of 99%, precision of 99%, recall of 99%, and an F1 score of 99%.\n",
    "\n",
    "2) Optimized Random Forest: Achieved an accuracy of 100%, precision of 100%, recall of 100%, and an F1 score of 100%. This is the best-performing model among all models and text representation techniques.\n",
    "\n",
    "3) Optimized Multinomial Naive Bayes: Achieved an accuracy of 94%, precision of 95%, recall of 94%, and an F1 score of 94%.\n",
    "\n",
    "4) Optimized SVM: Achieved an accuracy of 99%, precision of 100%, recall of 99%, and an F1 score of 99%.\n",
    "\n",
    "### TF-IDF:\n",
    "1) Optimized Logistic Regression: Achieved an accuracy of 99%, precision of 99%, recall of 99%, and an F1 score of 99%.\n",
    "\n",
    "2) Optimized Random Forest: Achieved an accuracy of 100%, precision of 100%, recall of 100%, and an F1 score of 100%.\n",
    "\n",
    "3) Optimized Multinomial Naive Bayes: Achieved an accuracy of 93%, precision of 94%, recall of 92%, and an F1 score of 93%.\n",
    "\n",
    "4) Optimized SVM: Achieved an accuracy of 99%, precision of 99%, recall of 99%, and an F1 score of 99%.\n",
    "\n",
    "### GloVe:\n",
    "1) Optimized Logistic Regression: Achieved an accuracy of 94%, precision of 93%, recall of 94%, and an F1 score of 93%.\n",
    "\n",
    "2) Optimized Random Forest: Achieved an accuracy of 95%, precision of 95%, recall of 93%, and an F1 score of 94%.\n",
    "\n",
    "3) Optimized SVM: Achieved an accuracy of 94%, precision of 93%, recall of 94%, and an F1 score of 94%.\n",
    "\n",
    "## In conclusion, the best model for this task is the Random Forest with Bag of Words input, as it achieved an accuracy of 100%, precision of 100%, recall of 100%, and an F1 score of 100%. This model outperformed all other models and text representation techniques. When presenting these results to your professor, highlight the superior performance of the Random Forest with Bag of Words input and discuss the importance of selecting the appropriate text representation technique and classification model for a given task."
   ]
  },
  {
   "cell_type": "markdown",
   "id": "1352fe04",
   "metadata": {},
   "source": [
    "## The best model is the Random Forest with Bag of Words input -\n",
    "## Save best model"
   ]
  },
  {
   "cell_type": "code",
   "execution_count": 16,
   "id": "2a27fcb0",
   "metadata": {},
   "outputs": [
    {
     "data": {
      "text/plain": [
       "['vectorizer.pkl']"
      ]
     },
     "execution_count": 16,
     "metadata": {},
     "output_type": "execute_result"
    }
   ],
   "source": [
    "import joblib\n",
    "best_model = optimized_models['Bag of Words']['Random Forest']\n",
    "\n",
    "#Save model to file\n",
    "joblib.dump(best_model, 'best_model_rf_bow.pkl')\n",
    "\n",
    "# Bag of Words\n",
    "vectorizer = CountVectorizer(stop_words='english', max_features=10000)\n",
    "X_train_bow = vectorizer.fit_transform(X_train)\n",
    "X_test_bow = vectorizer.transform(X_test)\n",
    "\n",
    "# Save the vectorizer\n",
    "joblib.dump(vectorizer, 'vectorizer.pkl')"
   ]
  },
  {
   "cell_type": "markdown",
   "id": "5b5512cc",
   "metadata": {},
   "source": [
    "## Load the model to make predictions. \n",
    "Tacking the problem - detection of fake news."
   ]
  },
  {
   "cell_type": "code",
   "execution_count": 1,
   "id": "13497c98",
   "metadata": {},
   "outputs": [],
   "source": [
    "import joblib\n",
    "# Load the saved model\n",
    "loaded_model = joblib.load('best_model_rf_bow.pkl')\n",
    "\n",
    "# Load the preprocessor\n",
    "vectorizer = joblib.load('vectorizer.pkl')"
   ]
  },
  {
   "cell_type": "markdown",
   "id": "bea3f261",
   "metadata": {},
   "source": [
    "## Making sure the model is optimal"
   ]
  },
  {
   "cell_type": "code",
   "execution_count": 26,
   "id": "e755c229",
   "metadata": {},
   "outputs": [
    {
     "name": "stdout",
     "output_type": "stream",
     "text": [
      "Accuracy: 1.00\n",
      "Precision: 1.00\n",
      "Recall: 1.00\n",
      "F1 Score: 1.00\n"
     ]
    }
   ],
   "source": [
    "# Use the loaded model to make predictions\n",
    "X_test_transformed = vectorizer.transform(X_test)\n",
    "y_pred_loaded_model = loaded_model.predict(X_test_transformed)\n",
    "# Calculate the performance metrics\n",
    "accuracy_loaded_model = accuracy_score(y_test, y_pred_loaded_model)\n",
    "precision_loaded_model = precision_score(y_test, y_pred_loaded_model)\n",
    "recall_loaded_model = recall_score(y_test, y_pred_loaded_model)\n",
    "f1_loaded_model = f1_score(y_test, y_pred_loaded_model)\n",
    "\n",
    "print(f'Accuracy: {accuracy_loaded_model:.2f}')\n",
    "print(f'Precision: {precision_loaded_model:.2f}')\n",
    "print(f'Recall: {recall_loaded_model:.2f}')\n",
    "print(f'F1 Score: {f1_loaded_model:.2f}')"
   ]
  },
  {
   "cell_type": "code",
   "execution_count": 13,
   "id": "c543039d",
   "metadata": {},
   "outputs": [
    {
     "data": {
      "application/vnd.plotly.v1+json": {
       "config": {
        "plotlyServerURL": "https://plot.ly"
       },
       "data": [
        {
         "marker": {
          "color": "rgb(102, 153, 255)"
         },
         "type": "bar",
         "x": [
          "Accuracy",
          "Precision",
          "Recall",
          "F1 Score"
         ],
         "y": [
          1,
          1,
          1,
          1
         ]
        }
       ],
       "layout": {
        "annotations": [
         {
          "showarrow": false,
          "text": "1.0",
          "x": "Accuracy",
          "y": 1.05
         },
         {
          "showarrow": false,
          "text": "1.0",
          "x": "Precision",
          "y": 1.05
         },
         {
          "showarrow": false,
          "text": "1.0",
          "x": "Recall",
          "y": 1.05
         },
         {
          "showarrow": false,
          "text": "1.0",
          "x": "F1 Score",
          "y": 1.05
         }
        ],
        "bargap": 0.15,
        "template": {
         "data": {
          "bar": [
           {
            "error_x": {
             "color": "#2a3f5f"
            },
            "error_y": {
             "color": "#2a3f5f"
            },
            "marker": {
             "line": {
              "color": "#E5ECF6",
              "width": 0.5
             },
             "pattern": {
              "fillmode": "overlay",
              "size": 10,
              "solidity": 0.2
             }
            },
            "type": "bar"
           }
          ],
          "barpolar": [
           {
            "marker": {
             "line": {
              "color": "#E5ECF6",
              "width": 0.5
             },
             "pattern": {
              "fillmode": "overlay",
              "size": 10,
              "solidity": 0.2
             }
            },
            "type": "barpolar"
           }
          ],
          "carpet": [
           {
            "aaxis": {
             "endlinecolor": "#2a3f5f",
             "gridcolor": "white",
             "linecolor": "white",
             "minorgridcolor": "white",
             "startlinecolor": "#2a3f5f"
            },
            "baxis": {
             "endlinecolor": "#2a3f5f",
             "gridcolor": "white",
             "linecolor": "white",
             "minorgridcolor": "white",
             "startlinecolor": "#2a3f5f"
            },
            "type": "carpet"
           }
          ],
          "choropleth": [
           {
            "colorbar": {
             "outlinewidth": 0,
             "ticks": ""
            },
            "type": "choropleth"
           }
          ],
          "contour": [
           {
            "colorbar": {
             "outlinewidth": 0,
             "ticks": ""
            },
            "colorscale": [
             [
              0,
              "#0d0887"
             ],
             [
              0.1111111111111111,
              "#46039f"
             ],
             [
              0.2222222222222222,
              "#7201a8"
             ],
             [
              0.3333333333333333,
              "#9c179e"
             ],
             [
              0.4444444444444444,
              "#bd3786"
             ],
             [
              0.5555555555555556,
              "#d8576b"
             ],
             [
              0.6666666666666666,
              "#ed7953"
             ],
             [
              0.7777777777777778,
              "#fb9f3a"
             ],
             [
              0.8888888888888888,
              "#fdca26"
             ],
             [
              1,
              "#f0f921"
             ]
            ],
            "type": "contour"
           }
          ],
          "contourcarpet": [
           {
            "colorbar": {
             "outlinewidth": 0,
             "ticks": ""
            },
            "type": "contourcarpet"
           }
          ],
          "heatmap": [
           {
            "colorbar": {
             "outlinewidth": 0,
             "ticks": ""
            },
            "colorscale": [
             [
              0,
              "#0d0887"
             ],
             [
              0.1111111111111111,
              "#46039f"
             ],
             [
              0.2222222222222222,
              "#7201a8"
             ],
             [
              0.3333333333333333,
              "#9c179e"
             ],
             [
              0.4444444444444444,
              "#bd3786"
             ],
             [
              0.5555555555555556,
              "#d8576b"
             ],
             [
              0.6666666666666666,
              "#ed7953"
             ],
             [
              0.7777777777777778,
              "#fb9f3a"
             ],
             [
              0.8888888888888888,
              "#fdca26"
             ],
             [
              1,
              "#f0f921"
             ]
            ],
            "type": "heatmap"
           }
          ],
          "heatmapgl": [
           {
            "colorbar": {
             "outlinewidth": 0,
             "ticks": ""
            },
            "colorscale": [
             [
              0,
              "#0d0887"
             ],
             [
              0.1111111111111111,
              "#46039f"
             ],
             [
              0.2222222222222222,
              "#7201a8"
             ],
             [
              0.3333333333333333,
              "#9c179e"
             ],
             [
              0.4444444444444444,
              "#bd3786"
             ],
             [
              0.5555555555555556,
              "#d8576b"
             ],
             [
              0.6666666666666666,
              "#ed7953"
             ],
             [
              0.7777777777777778,
              "#fb9f3a"
             ],
             [
              0.8888888888888888,
              "#fdca26"
             ],
             [
              1,
              "#f0f921"
             ]
            ],
            "type": "heatmapgl"
           }
          ],
          "histogram": [
           {
            "marker": {
             "pattern": {
              "fillmode": "overlay",
              "size": 10,
              "solidity": 0.2
             }
            },
            "type": "histogram"
           }
          ],
          "histogram2d": [
           {
            "colorbar": {
             "outlinewidth": 0,
             "ticks": ""
            },
            "colorscale": [
             [
              0,
              "#0d0887"
             ],
             [
              0.1111111111111111,
              "#46039f"
             ],
             [
              0.2222222222222222,
              "#7201a8"
             ],
             [
              0.3333333333333333,
              "#9c179e"
             ],
             [
              0.4444444444444444,
              "#bd3786"
             ],
             [
              0.5555555555555556,
              "#d8576b"
             ],
             [
              0.6666666666666666,
              "#ed7953"
             ],
             [
              0.7777777777777778,
              "#fb9f3a"
             ],
             [
              0.8888888888888888,
              "#fdca26"
             ],
             [
              1,
              "#f0f921"
             ]
            ],
            "type": "histogram2d"
           }
          ],
          "histogram2dcontour": [
           {
            "colorbar": {
             "outlinewidth": 0,
             "ticks": ""
            },
            "colorscale": [
             [
              0,
              "#0d0887"
             ],
             [
              0.1111111111111111,
              "#46039f"
             ],
             [
              0.2222222222222222,
              "#7201a8"
             ],
             [
              0.3333333333333333,
              "#9c179e"
             ],
             [
              0.4444444444444444,
              "#bd3786"
             ],
             [
              0.5555555555555556,
              "#d8576b"
             ],
             [
              0.6666666666666666,
              "#ed7953"
             ],
             [
              0.7777777777777778,
              "#fb9f3a"
             ],
             [
              0.8888888888888888,
              "#fdca26"
             ],
             [
              1,
              "#f0f921"
             ]
            ],
            "type": "histogram2dcontour"
           }
          ],
          "mesh3d": [
           {
            "colorbar": {
             "outlinewidth": 0,
             "ticks": ""
            },
            "type": "mesh3d"
           }
          ],
          "parcoords": [
           {
            "line": {
             "colorbar": {
              "outlinewidth": 0,
              "ticks": ""
             }
            },
            "type": "parcoords"
           }
          ],
          "pie": [
           {
            "automargin": true,
            "type": "pie"
           }
          ],
          "scatter": [
           {
            "fillpattern": {
             "fillmode": "overlay",
             "size": 10,
             "solidity": 0.2
            },
            "type": "scatter"
           }
          ],
          "scatter3d": [
           {
            "line": {
             "colorbar": {
              "outlinewidth": 0,
              "ticks": ""
             }
            },
            "marker": {
             "colorbar": {
              "outlinewidth": 0,
              "ticks": ""
             }
            },
            "type": "scatter3d"
           }
          ],
          "scattercarpet": [
           {
            "marker": {
             "colorbar": {
              "outlinewidth": 0,
              "ticks": ""
             }
            },
            "type": "scattercarpet"
           }
          ],
          "scattergeo": [
           {
            "marker": {
             "colorbar": {
              "outlinewidth": 0,
              "ticks": ""
             }
            },
            "type": "scattergeo"
           }
          ],
          "scattergl": [
           {
            "marker": {
             "colorbar": {
              "outlinewidth": 0,
              "ticks": ""
             }
            },
            "type": "scattergl"
           }
          ],
          "scattermapbox": [
           {
            "marker": {
             "colorbar": {
              "outlinewidth": 0,
              "ticks": ""
             }
            },
            "type": "scattermapbox"
           }
          ],
          "scatterpolar": [
           {
            "marker": {
             "colorbar": {
              "outlinewidth": 0,
              "ticks": ""
             }
            },
            "type": "scatterpolar"
           }
          ],
          "scatterpolargl": [
           {
            "marker": {
             "colorbar": {
              "outlinewidth": 0,
              "ticks": ""
             }
            },
            "type": "scatterpolargl"
           }
          ],
          "scatterternary": [
           {
            "marker": {
             "colorbar": {
              "outlinewidth": 0,
              "ticks": ""
             }
            },
            "type": "scatterternary"
           }
          ],
          "surface": [
           {
            "colorbar": {
             "outlinewidth": 0,
             "ticks": ""
            },
            "colorscale": [
             [
              0,
              "#0d0887"
             ],
             [
              0.1111111111111111,
              "#46039f"
             ],
             [
              0.2222222222222222,
              "#7201a8"
             ],
             [
              0.3333333333333333,
              "#9c179e"
             ],
             [
              0.4444444444444444,
              "#bd3786"
             ],
             [
              0.5555555555555556,
              "#d8576b"
             ],
             [
              0.6666666666666666,
              "#ed7953"
             ],
             [
              0.7777777777777778,
              "#fb9f3a"
             ],
             [
              0.8888888888888888,
              "#fdca26"
             ],
             [
              1,
              "#f0f921"
             ]
            ],
            "type": "surface"
           }
          ],
          "table": [
           {
            "cells": {
             "fill": {
              "color": "#EBF0F8"
             },
             "line": {
              "color": "white"
             }
            },
            "header": {
             "fill": {
              "color": "#C8D4E3"
             },
             "line": {
              "color": "white"
             }
            },
            "type": "table"
           }
          ]
         },
         "layout": {
          "annotationdefaults": {
           "arrowcolor": "#2a3f5f",
           "arrowhead": 0,
           "arrowwidth": 1
          },
          "autotypenumbers": "strict",
          "coloraxis": {
           "colorbar": {
            "outlinewidth": 0,
            "ticks": ""
           }
          },
          "colorscale": {
           "diverging": [
            [
             0,
             "#8e0152"
            ],
            [
             0.1,
             "#c51b7d"
            ],
            [
             0.2,
             "#de77ae"
            ],
            [
             0.3,
             "#f1b6da"
            ],
            [
             0.4,
             "#fde0ef"
            ],
            [
             0.5,
             "#f7f7f7"
            ],
            [
             0.6,
             "#e6f5d0"
            ],
            [
             0.7,
             "#b8e186"
            ],
            [
             0.8,
             "#7fbc41"
            ],
            [
             0.9,
             "#4d9221"
            ],
            [
             1,
             "#276419"
            ]
           ],
           "sequential": [
            [
             0,
             "#0d0887"
            ],
            [
             0.1111111111111111,
             "#46039f"
            ],
            [
             0.2222222222222222,
             "#7201a8"
            ],
            [
             0.3333333333333333,
             "#9c179e"
            ],
            [
             0.4444444444444444,
             "#bd3786"
            ],
            [
             0.5555555555555556,
             "#d8576b"
            ],
            [
             0.6666666666666666,
             "#ed7953"
            ],
            [
             0.7777777777777778,
             "#fb9f3a"
            ],
            [
             0.8888888888888888,
             "#fdca26"
            ],
            [
             1,
             "#f0f921"
            ]
           ],
           "sequentialminus": [
            [
             0,
             "#0d0887"
            ],
            [
             0.1111111111111111,
             "#46039f"
            ],
            [
             0.2222222222222222,
             "#7201a8"
            ],
            [
             0.3333333333333333,
             "#9c179e"
            ],
            [
             0.4444444444444444,
             "#bd3786"
            ],
            [
             0.5555555555555556,
             "#d8576b"
            ],
            [
             0.6666666666666666,
             "#ed7953"
            ],
            [
             0.7777777777777778,
             "#fb9f3a"
            ],
            [
             0.8888888888888888,
             "#fdca26"
            ],
            [
             1,
             "#f0f921"
            ]
           ]
          },
          "colorway": [
           "#636efa",
           "#EF553B",
           "#00cc96",
           "#ab63fa",
           "#FFA15A",
           "#19d3f3",
           "#FF6692",
           "#B6E880",
           "#FF97FF",
           "#FECB52"
          ],
          "font": {
           "color": "#2a3f5f"
          },
          "geo": {
           "bgcolor": "white",
           "lakecolor": "white",
           "landcolor": "#E5ECF6",
           "showlakes": true,
           "showland": true,
           "subunitcolor": "white"
          },
          "hoverlabel": {
           "align": "left"
          },
          "hovermode": "closest",
          "mapbox": {
           "style": "light"
          },
          "paper_bgcolor": "white",
          "plot_bgcolor": "#E5ECF6",
          "polar": {
           "angularaxis": {
            "gridcolor": "white",
            "linecolor": "white",
            "ticks": ""
           },
           "bgcolor": "#E5ECF6",
           "radialaxis": {
            "gridcolor": "white",
            "linecolor": "white",
            "ticks": ""
           }
          },
          "scene": {
           "xaxis": {
            "backgroundcolor": "#E5ECF6",
            "gridcolor": "white",
            "gridwidth": 2,
            "linecolor": "white",
            "showbackground": true,
            "ticks": "",
            "zerolinecolor": "white"
           },
           "yaxis": {
            "backgroundcolor": "#E5ECF6",
            "gridcolor": "white",
            "gridwidth": 2,
            "linecolor": "white",
            "showbackground": true,
            "ticks": "",
            "zerolinecolor": "white"
           },
           "zaxis": {
            "backgroundcolor": "#E5ECF6",
            "gridcolor": "white",
            "gridwidth": 2,
            "linecolor": "white",
            "showbackground": true,
            "ticks": "",
            "zerolinecolor": "white"
           }
          },
          "shapedefaults": {
           "line": {
            "color": "#2a3f5f"
           }
          },
          "ternary": {
           "aaxis": {
            "gridcolor": "white",
            "linecolor": "white",
            "ticks": ""
           },
           "baxis": {
            "gridcolor": "white",
            "linecolor": "white",
            "ticks": ""
           },
           "bgcolor": "#E5ECF6",
           "caxis": {
            "gridcolor": "white",
            "linecolor": "white",
            "ticks": ""
           }
          },
          "title": {
           "x": 0.05
          },
          "xaxis": {
           "automargin": true,
           "gridcolor": "white",
           "linecolor": "white",
           "ticks": "",
           "title": {
            "standoff": 15
           },
           "zerolinecolor": "white",
           "zerolinewidth": 2
          },
          "yaxis": {
           "automargin": true,
           "gridcolor": "white",
           "linecolor": "white",
           "ticks": "",
           "title": {
            "standoff": 15
           },
           "zerolinecolor": "white",
           "zerolinewidth": 2
          }
         }
        },
        "title": {
         "text": "Model Evaluation"
        },
        "xaxis": {
         "title": {
          "text": "Metric"
         }
        },
        "yaxis": {
         "title": {
          "text": "Score"
         }
        }
       }
      },
      "text/html": [
       "<div>                            <div id=\"f470157c-248a-44e3-9481-338d0e3044cb\" class=\"plotly-graph-div\" style=\"height:525px; width:100%;\"></div>            <script type=\"text/javascript\">                require([\"plotly\"], function(Plotly) {                    window.PLOTLYENV=window.PLOTLYENV || {};                                    if (document.getElementById(\"f470157c-248a-44e3-9481-338d0e3044cb\")) {                    Plotly.newPlot(                        \"f470157c-248a-44e3-9481-338d0e3044cb\",                        [{\"marker\":{\"color\":\"rgb(102, 153, 255)\"},\"x\":[\"Accuracy\",\"Precision\",\"Recall\",\"F1 Score\"],\"y\":[1.0,1.0,1.0,1.0],\"type\":\"bar\"}],                        {\"template\":{\"data\":{\"histogram2dcontour\":[{\"type\":\"histogram2dcontour\",\"colorbar\":{\"outlinewidth\":0,\"ticks\":\"\"},\"colorscale\":[[0.0,\"#0d0887\"],[0.1111111111111111,\"#46039f\"],[0.2222222222222222,\"#7201a8\"],[0.3333333333333333,\"#9c179e\"],[0.4444444444444444,\"#bd3786\"],[0.5555555555555556,\"#d8576b\"],[0.6666666666666666,\"#ed7953\"],[0.7777777777777778,\"#fb9f3a\"],[0.8888888888888888,\"#fdca26\"],[1.0,\"#f0f921\"]]}],\"choropleth\":[{\"type\":\"choropleth\",\"colorbar\":{\"outlinewidth\":0,\"ticks\":\"\"}}],\"histogram2d\":[{\"type\":\"histogram2d\",\"colorbar\":{\"outlinewidth\":0,\"ticks\":\"\"},\"colorscale\":[[0.0,\"#0d0887\"],[0.1111111111111111,\"#46039f\"],[0.2222222222222222,\"#7201a8\"],[0.3333333333333333,\"#9c179e\"],[0.4444444444444444,\"#bd3786\"],[0.5555555555555556,\"#d8576b\"],[0.6666666666666666,\"#ed7953\"],[0.7777777777777778,\"#fb9f3a\"],[0.8888888888888888,\"#fdca26\"],[1.0,\"#f0f921\"]]}],\"heatmap\":[{\"type\":\"heatmap\",\"colorbar\":{\"outlinewidth\":0,\"ticks\":\"\"},\"colorscale\":[[0.0,\"#0d0887\"],[0.1111111111111111,\"#46039f\"],[0.2222222222222222,\"#7201a8\"],[0.3333333333333333,\"#9c179e\"],[0.4444444444444444,\"#bd3786\"],[0.5555555555555556,\"#d8576b\"],[0.6666666666666666,\"#ed7953\"],[0.7777777777777778,\"#fb9f3a\"],[0.8888888888888888,\"#fdca26\"],[1.0,\"#f0f921\"]]}],\"heatmapgl\":[{\"type\":\"heatmapgl\",\"colorbar\":{\"outlinewidth\":0,\"ticks\":\"\"},\"colorscale\":[[0.0,\"#0d0887\"],[0.1111111111111111,\"#46039f\"],[0.2222222222222222,\"#7201a8\"],[0.3333333333333333,\"#9c179e\"],[0.4444444444444444,\"#bd3786\"],[0.5555555555555556,\"#d8576b\"],[0.6666666666666666,\"#ed7953\"],[0.7777777777777778,\"#fb9f3a\"],[0.8888888888888888,\"#fdca26\"],[1.0,\"#f0f921\"]]}],\"contourcarpet\":[{\"type\":\"contourcarpet\",\"colorbar\":{\"outlinewidth\":0,\"ticks\":\"\"}}],\"contour\":[{\"type\":\"contour\",\"colorbar\":{\"outlinewidth\":0,\"ticks\":\"\"},\"colorscale\":[[0.0,\"#0d0887\"],[0.1111111111111111,\"#46039f\"],[0.2222222222222222,\"#7201a8\"],[0.3333333333333333,\"#9c179e\"],[0.4444444444444444,\"#bd3786\"],[0.5555555555555556,\"#d8576b\"],[0.6666666666666666,\"#ed7953\"],[0.7777777777777778,\"#fb9f3a\"],[0.8888888888888888,\"#fdca26\"],[1.0,\"#f0f921\"]]}],\"surface\":[{\"type\":\"surface\",\"colorbar\":{\"outlinewidth\":0,\"ticks\":\"\"},\"colorscale\":[[0.0,\"#0d0887\"],[0.1111111111111111,\"#46039f\"],[0.2222222222222222,\"#7201a8\"],[0.3333333333333333,\"#9c179e\"],[0.4444444444444444,\"#bd3786\"],[0.5555555555555556,\"#d8576b\"],[0.6666666666666666,\"#ed7953\"],[0.7777777777777778,\"#fb9f3a\"],[0.8888888888888888,\"#fdca26\"],[1.0,\"#f0f921\"]]}],\"mesh3d\":[{\"type\":\"mesh3d\",\"colorbar\":{\"outlinewidth\":0,\"ticks\":\"\"}}],\"scatter\":[{\"fillpattern\":{\"fillmode\":\"overlay\",\"size\":10,\"solidity\":0.2},\"type\":\"scatter\"}],\"parcoords\":[{\"type\":\"parcoords\",\"line\":{\"colorbar\":{\"outlinewidth\":0,\"ticks\":\"\"}}}],\"scatterpolargl\":[{\"type\":\"scatterpolargl\",\"marker\":{\"colorbar\":{\"outlinewidth\":0,\"ticks\":\"\"}}}],\"bar\":[{\"error_x\":{\"color\":\"#2a3f5f\"},\"error_y\":{\"color\":\"#2a3f5f\"},\"marker\":{\"line\":{\"color\":\"#E5ECF6\",\"width\":0.5},\"pattern\":{\"fillmode\":\"overlay\",\"size\":10,\"solidity\":0.2}},\"type\":\"bar\"}],\"scattergeo\":[{\"type\":\"scattergeo\",\"marker\":{\"colorbar\":{\"outlinewidth\":0,\"ticks\":\"\"}}}],\"scatterpolar\":[{\"type\":\"scatterpolar\",\"marker\":{\"colorbar\":{\"outlinewidth\":0,\"ticks\":\"\"}}}],\"histogram\":[{\"marker\":{\"pattern\":{\"fillmode\":\"overlay\",\"size\":10,\"solidity\":0.2}},\"type\":\"histogram\"}],\"scattergl\":[{\"type\":\"scattergl\",\"marker\":{\"colorbar\":{\"outlinewidth\":0,\"ticks\":\"\"}}}],\"scatter3d\":[{\"type\":\"scatter3d\",\"line\":{\"colorbar\":{\"outlinewidth\":0,\"ticks\":\"\"}},\"marker\":{\"colorbar\":{\"outlinewidth\":0,\"ticks\":\"\"}}}],\"scattermapbox\":[{\"type\":\"scattermapbox\",\"marker\":{\"colorbar\":{\"outlinewidth\":0,\"ticks\":\"\"}}}],\"scatterternary\":[{\"type\":\"scatterternary\",\"marker\":{\"colorbar\":{\"outlinewidth\":0,\"ticks\":\"\"}}}],\"scattercarpet\":[{\"type\":\"scattercarpet\",\"marker\":{\"colorbar\":{\"outlinewidth\":0,\"ticks\":\"\"}}}],\"carpet\":[{\"aaxis\":{\"endlinecolor\":\"#2a3f5f\",\"gridcolor\":\"white\",\"linecolor\":\"white\",\"minorgridcolor\":\"white\",\"startlinecolor\":\"#2a3f5f\"},\"baxis\":{\"endlinecolor\":\"#2a3f5f\",\"gridcolor\":\"white\",\"linecolor\":\"white\",\"minorgridcolor\":\"white\",\"startlinecolor\":\"#2a3f5f\"},\"type\":\"carpet\"}],\"table\":[{\"cells\":{\"fill\":{\"color\":\"#EBF0F8\"},\"line\":{\"color\":\"white\"}},\"header\":{\"fill\":{\"color\":\"#C8D4E3\"},\"line\":{\"color\":\"white\"}},\"type\":\"table\"}],\"barpolar\":[{\"marker\":{\"line\":{\"color\":\"#E5ECF6\",\"width\":0.5},\"pattern\":{\"fillmode\":\"overlay\",\"size\":10,\"solidity\":0.2}},\"type\":\"barpolar\"}],\"pie\":[{\"automargin\":true,\"type\":\"pie\"}]},\"layout\":{\"autotypenumbers\":\"strict\",\"colorway\":[\"#636efa\",\"#EF553B\",\"#00cc96\",\"#ab63fa\",\"#FFA15A\",\"#19d3f3\",\"#FF6692\",\"#B6E880\",\"#FF97FF\",\"#FECB52\"],\"font\":{\"color\":\"#2a3f5f\"},\"hovermode\":\"closest\",\"hoverlabel\":{\"align\":\"left\"},\"paper_bgcolor\":\"white\",\"plot_bgcolor\":\"#E5ECF6\",\"polar\":{\"bgcolor\":\"#E5ECF6\",\"angularaxis\":{\"gridcolor\":\"white\",\"linecolor\":\"white\",\"ticks\":\"\"},\"radialaxis\":{\"gridcolor\":\"white\",\"linecolor\":\"white\",\"ticks\":\"\"}},\"ternary\":{\"bgcolor\":\"#E5ECF6\",\"aaxis\":{\"gridcolor\":\"white\",\"linecolor\":\"white\",\"ticks\":\"\"},\"baxis\":{\"gridcolor\":\"white\",\"linecolor\":\"white\",\"ticks\":\"\"},\"caxis\":{\"gridcolor\":\"white\",\"linecolor\":\"white\",\"ticks\":\"\"}},\"coloraxis\":{\"colorbar\":{\"outlinewidth\":0,\"ticks\":\"\"}},\"colorscale\":{\"sequential\":[[0.0,\"#0d0887\"],[0.1111111111111111,\"#46039f\"],[0.2222222222222222,\"#7201a8\"],[0.3333333333333333,\"#9c179e\"],[0.4444444444444444,\"#bd3786\"],[0.5555555555555556,\"#d8576b\"],[0.6666666666666666,\"#ed7953\"],[0.7777777777777778,\"#fb9f3a\"],[0.8888888888888888,\"#fdca26\"],[1.0,\"#f0f921\"]],\"sequentialminus\":[[0.0,\"#0d0887\"],[0.1111111111111111,\"#46039f\"],[0.2222222222222222,\"#7201a8\"],[0.3333333333333333,\"#9c179e\"],[0.4444444444444444,\"#bd3786\"],[0.5555555555555556,\"#d8576b\"],[0.6666666666666666,\"#ed7953\"],[0.7777777777777778,\"#fb9f3a\"],[0.8888888888888888,\"#fdca26\"],[1.0,\"#f0f921\"]],\"diverging\":[[0,\"#8e0152\"],[0.1,\"#c51b7d\"],[0.2,\"#de77ae\"],[0.3,\"#f1b6da\"],[0.4,\"#fde0ef\"],[0.5,\"#f7f7f7\"],[0.6,\"#e6f5d0\"],[0.7,\"#b8e186\"],[0.8,\"#7fbc41\"],[0.9,\"#4d9221\"],[1,\"#276419\"]]},\"xaxis\":{\"gridcolor\":\"white\",\"linecolor\":\"white\",\"ticks\":\"\",\"title\":{\"standoff\":15},\"zerolinecolor\":\"white\",\"automargin\":true,\"zerolinewidth\":2},\"yaxis\":{\"gridcolor\":\"white\",\"linecolor\":\"white\",\"ticks\":\"\",\"title\":{\"standoff\":15},\"zerolinecolor\":\"white\",\"automargin\":true,\"zerolinewidth\":2},\"scene\":{\"xaxis\":{\"backgroundcolor\":\"#E5ECF6\",\"gridcolor\":\"white\",\"linecolor\":\"white\",\"showbackground\":true,\"ticks\":\"\",\"zerolinecolor\":\"white\",\"gridwidth\":2},\"yaxis\":{\"backgroundcolor\":\"#E5ECF6\",\"gridcolor\":\"white\",\"linecolor\":\"white\",\"showbackground\":true,\"ticks\":\"\",\"zerolinecolor\":\"white\",\"gridwidth\":2},\"zaxis\":{\"backgroundcolor\":\"#E5ECF6\",\"gridcolor\":\"white\",\"linecolor\":\"white\",\"showbackground\":true,\"ticks\":\"\",\"zerolinecolor\":\"white\",\"gridwidth\":2}},\"shapedefaults\":{\"line\":{\"color\":\"#2a3f5f\"}},\"annotationdefaults\":{\"arrowcolor\":\"#2a3f5f\",\"arrowhead\":0,\"arrowwidth\":1},\"geo\":{\"bgcolor\":\"white\",\"landcolor\":\"#E5ECF6\",\"subunitcolor\":\"white\",\"showland\":true,\"showlakes\":true,\"lakecolor\":\"white\"},\"title\":{\"x\":0.05},\"mapbox\":{\"style\":\"light\"}}},\"title\":{\"text\":\"Model Evaluation\"},\"xaxis\":{\"title\":{\"text\":\"Metric\"}},\"yaxis\":{\"title\":{\"text\":\"Score\"}},\"bargap\":0.15,\"annotations\":[{\"showarrow\":false,\"text\":\"1.0\",\"x\":\"Accuracy\",\"y\":1.05},{\"showarrow\":false,\"text\":\"1.0\",\"x\":\"Precision\",\"y\":1.05},{\"showarrow\":false,\"text\":\"1.0\",\"x\":\"Recall\",\"y\":1.05},{\"showarrow\":false,\"text\":\"1.0\",\"x\":\"F1 Score\",\"y\":1.05}]},                        {\"responsive\": true}                    ).then(function(){\n",
       "                            \n",
       "var gd = document.getElementById('f470157c-248a-44e3-9481-338d0e3044cb');\n",
       "var x = new MutationObserver(function (mutations, observer) {{\n",
       "        var display = window.getComputedStyle(gd).display;\n",
       "        if (!display || display === 'none') {{\n",
       "            console.log([gd, 'removed!']);\n",
       "            Plotly.purge(gd);\n",
       "            observer.disconnect();\n",
       "        }}\n",
       "}});\n",
       "\n",
       "// Listen for the removal of the full notebook cells\n",
       "var notebookContainer = gd.closest('#notebook-container');\n",
       "if (notebookContainer) {{\n",
       "    x.observe(notebookContainer, {childList: true});\n",
       "}}\n",
       "\n",
       "// Listen for the clearing of the current output cell\n",
       "var outputEl = gd.closest('.output');\n",
       "if (outputEl) {{\n",
       "    x.observe(outputEl, {childList: true});\n",
       "}}\n",
       "\n",
       "                        })                };                });            </script>        </div>"
      ]
     },
     "metadata": {},
     "output_type": "display_data"
    }
   ],
   "source": [
    "# Create the data\n",
    "metrics = ['Accuracy', 'Precision', 'Recall', 'F1 Score']\n",
    "scores = [1.00, 1.00, 1.00, 1.00]\n",
    "\n",
    "# Create the bar plot\n",
    "fig = go.Figure()\n",
    "fig.add_trace(go.Bar(x=metrics, y=scores, marker_color='rgb(102, 153, 255)'))\n",
    "\n",
    "# Update the layout\n",
    "fig.update_layout(\n",
    "    title='Model Evaluation',\n",
    "    xaxis=dict(title='Metric'),\n",
    "    yaxis=dict(title='Score'),\n",
    "    bargap=0.15,\n",
    ")\n",
    "\n",
    "# Add annotations to the bars\n",
    "annotations = []\n",
    "for i in range(len(metrics)):\n",
    "    annotations.append(dict(x=metrics[i], y=scores[i]+0.05, text=str(scores[i]), showarrow=False))\n",
    "fig.update_layout(annotations=annotations)\n",
    "\n",
    "# Show the figure\n",
    "fig.show()\n"
   ]
  },
  {
   "cell_type": "markdown",
   "id": "6be4a732",
   "metadata": {},
   "source": [
    "## Predicting news found online\n",
    "\n",
    "## News 1:\n",
    "https://www.reuters.com/article/us-usa-fiscal-idUSKBN1EP0LK - copy paste sample from start to end. \n",
    "## News 2:\n",
    "https://web.archive.org/web/20161115024211/http://wtoe5news.com/us-election/pope-francis-shocks-world-endorses-donald-trump-for-president-releases-statement/ - copy paste sample from start to end. "
   ]
  },
  {
   "cell_type": "code",
   "execution_count": 2,
   "id": "e7864cc1",
   "metadata": {},
   "outputs": [
    {
     "name": "stdout",
     "output_type": "stream",
     "text": [
      "Enter your sample news text (type 0 to exit): WASHINGTON (Reuters) - The head of a conservative Republican faction in the U.S. Congress, who voted this month for a huge expansion of the national debt to pay for tax cuts, called himself a “fiscal conservative” on Sunday and urged budget restraint in 2018.  In keeping with a sharp pivot under way among Republicans, U.S. Representative Mark Meadows, speaking on CBS’ “Face the Nation,” drew a hard line on federal spending, which lawmakers are bracing to do battle over in January.  When they return from the holidays on Wednesday, lawmakers will begin trying to pass a federal budget in a fight likely to be linked to other issues, such as immigration policy, even as the November congressional election campaigns approach in which Republicans will seek to keep control of Congress.  President Donald Trump and his Republicans want a big budget increase in military spending, while Democrats also want proportional increases for non-defense “discretionary” spending on programs that support education, scientific research, infrastructure, public health and environmental protection.  “The (Trump) administration has already been willing to say: ‘We’re going to increase non-defense discretionary spending ... by about 7 percent,’” Meadows, chairman of the small but influential House Freedom Caucus, said on the program.  “Now, Democrats are saying that’s not enough, we need to give the government a pay raise of 10 to 11 percent. For a fiscal conservative, I don’t see where the rationale is. ... Eventually you run out of other people’s money,” he said.  Meadows was among Republicans who voted in late December for their party’s debt-financed tax overhaul, which is expected to balloon the federal budget deficit and add about $1.5 trillion over 10 years to the $20 trillion national debt.  “It’s interesting to hear Mark talk about fiscal responsibility,” Democratic U.S. Representative Joseph Crowley said on CBS.  Crowley said the Republican tax bill would require the United States to borrow $1.5 trillion, to be paid off by future generations, to finance tax cuts for corporations and the rich.  “This is one of the least ... fiscally responsible bills we’ve ever seen passed in the history of the House of Representatives. I think we’re going to be paying for this for many, many years to come,” Crowley said.  Republicans insist the tax package, the biggest U.S. tax overhaul in more than 30 years, will boost the economy and job growth.   FILE PHOTO: The U.S. Capitol Dome (L) building is pictured in Washington, DC, U.S. on October 4, 2013. REUTERS/Jonathan Ernst/File Photo ‘ENTITLEMENT REFORM’  House Speaker Paul Ryan, who also supported the tax bill, recently went further than Meadows, making clear in a radio interview that welfare or “entitlement reform,” as the party often calls it, would be a top Republican priority in 2018.  In Republican parlance, “entitlement” programs mean food stamps, housing assistance, Medicare and Medicaid health insurance for the elderly, poor and disabled, as well as other programs created by Washington to assist the needy.  Democrats seized on Ryan’s early December remarks, saying they showed Republicans would try to pay for their tax overhaul by seeking spending cuts for social programs.  But the goals of House Republicans may have to take a back seat to the Senate, where the votes of some Democrats will be needed to approve a budget and prevent a government shutdown.  Democrats will use their leverage in the Senate, which Republicans narrowly control, to defend both discretionary non-defense programs and social spending, while tackling the issue of the “Dreamers,” people brought illegally to the country as children.  Trump in September put a March 2018 expiration date on the Deferred Action for Childhood Arrivals, or DACA, program, which protects the young immigrants from deportation and provides them with work permits.  The president has said in recent Twitter messages he wants funding for his proposed Mexican border wall and other immigration law changes in exchange for agreeing to help the Dreamers.  Representative Debbie Dingell told CBS she did not favor linking that issue to other policy objectives, such as wall funding. “We need to do DACA clean,” she said.  On Wednesday, Trump aides will meet with congressional leaders to discuss those issues. That will be followed by a weekend of strategy sessions for Trump and Republican leaders on Jan. 6 and 7, the White House said.  Trump was also scheduled to meet on Sunday with Florida Republican Governor Rick Scott, who wants more emergency aid. The House has passed an $81 billion aid package after hurricanes in Florida, Texas and Puerto Rico, and wildfires in California. The package far exceeded the $44 billion requested by the Trump administration. The Senate has not yet voted on the aid.\n",
      "[1]\n",
      "The given news is Real.\n",
      "Enter your sample news text (type 0 to exit): Pope Francis Shocks World, Endorses Donald Trump for President, Releases Statement TOPICS:Pope Francis Endorses Donald Trump photo by Jeffrey Bruno / CC BY-SA 2.0 / cropped & photo by Gage Skidmore / CC BY-SA 3.0 / cropped photo by Jeffrey Bruno / CC BY-SA 2.0 / cropped & photo by Gage Skidmore / CC BY-SA 3.0 / cropped    97.6k Share:97.6k VATICAN CITY – News outlets around the world are reporting on the news that Pope Francis has made the unprecedented decision to endorse a US presidential candidate. His statement in support of Donald Trump was released from the Vatican this evening:  “I have been hesitant to offer any kind of support for either candidate in the US presidential election but I now feel that to not voice my concern would be a dereliction of my duty as the Holy See. A strong and free America is vitally important in maintaining a strong and free world and in that sense what happens in American elections affects us all. The Rule of Law is the backbone of the American government as it is in any nation that strives for freedom and I now fear that the Rule of Law in America has been dealt a dangerous blow. The FBI, in refusing to recommend prosecution after admitting that the law had been broken on multiple occasions by Secretary Clinton, has exposed itself as corrupted by political forces that have become far too powerful. Though I don’t agree with Mr. Trump on some issues, I feel that voting against the powerful political forces that have corrupted the entire American federal government is the only option for a nation that desires a government that is truly for the people and by the people.  For this primary reason I ask, not as the Holy Father, but as a concerned citizen of the world that Americans vote for Donald Trump for President of the United States.”  Sources within the Vatican reportedly were aware that the Pope had been discussing the possibility of voicing his concern in the US presidential election but apparently were completely unaware that he had made a decision on going forward with voicing this concern until his statement was released this evening from the Vatican. Stay tuned to WTOE 5 News for more on this breaking news.\n",
      "[0]\n",
      "The given news is Fake.\n",
      "Enter your sample news text (type 0 to exit): 0\n"
     ]
    }
   ],
   "source": [
    "def predict_fake_news(sample_text):\n",
    "    # Preprocess the sample text\n",
    "    preprocessed_sample = vectorizer.transform([sample_text])\n",
    "\n",
    "    # Make a prediction\n",
    "    prediction = loaded_model.predict(preprocessed_sample)\n",
    "    print (prediction)\n",
    "    if prediction == 1:\n",
    "        return \"Real\"\n",
    "    else:\n",
    "        return \"Fake\"\n",
    "\n",
    "# Prompt the user to enter the sample news text repeatedly\n",
    "while True:\n",
    "    sample_text = input(\"Enter your sample news text (type 0 to exit): \")\n",
    "\n",
    "    if sample_text == \"0\":\n",
    "        break\n",
    "\n",
    "    result = predict_fake_news(sample_text)\n",
    "    \n",
    "    print(f\"The given news is {result}.\")"
   ]
  },
  {
   "cell_type": "markdown",
   "id": "90f70320",
   "metadata": {},
   "source": [
    "## Prediction Outcomes are Correct!!\n",
    "\n",
    "## News 1: As U.S. budget fight looms, Republicans flip their fiscal script\n",
    "True story. Thomson Reuters is dedicated to upholding the Trust Principles and to preserving its independence, integrity, and freedom from bias in the gathering and dissemination of information and news.\n",
    "\n",
    "## News 2: In 2016, a story circulated that Pope Francis made an unprecedented and shocking endorsement of Donald Trump for president.\n",
    "This story is completely false.\n",
    "The original story can be traced back to a satire website, but it took off from there and became viral.\n",
    "There were also other versions of this fake story claiming Pope Francis instead endorsed Hillary Clinton and Bernie Sanders for president."
   ]
  }
 ],
 "metadata": {
  "kernelspec": {
   "display_name": "Python 3 (ipykernel)",
   "language": "python",
   "name": "python3"
  },
  "language_info": {
   "codemirror_mode": {
    "name": "ipython",
    "version": 3
   },
   "file_extension": ".py",
   "mimetype": "text/x-python",
   "name": "python",
   "nbconvert_exporter": "python",
   "pygments_lexer": "ipython3",
   "version": "3.10.9"
  }
 },
 "nbformat": 4,
 "nbformat_minor": 5
}
